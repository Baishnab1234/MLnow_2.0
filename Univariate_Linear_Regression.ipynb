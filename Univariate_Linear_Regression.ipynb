{
  "nbformat": 4,
  "nbformat_minor": 0,
  "metadata": {
    "colab": {
      "name": "Univariate_Linear_Regression",
      "provenance": [],
      "collapsed_sections": [],
      "mount_file_id": "1kDfG3yK-tzxqaXdM9uaBRI9QRq18bjmC",
      "authorship_tag": "ABX9TyMLgts22e08t5fTwbg37snu",
      "include_colab_link": true
    },
    "kernelspec": {
      "name": "python3",
      "display_name": "Python 3"
    },
    "language_info": {
      "name": "python"
    }
  },
  "cells": [
    {
      "cell_type": "markdown",
      "metadata": {
        "id": "view-in-github",
        "colab_type": "text"
      },
      "source": [
        "<a href=\"https://colab.research.google.com/github/Baishnab1234/MLnow_2.0/blob/main/Univariate_Linear_Regression.ipynb\" target=\"_parent\"><img src=\"https://colab.research.google.com/assets/colab-badge.svg\" alt=\"Open In Colab\"/></a>"
      ]
    },
    {
      "cell_type": "markdown",
      "metadata": {
        "id": "Qh1zmVNbZl2E"
      },
      "source": [
        ""
      ]
    },
    {
      "cell_type": "markdown",
      "metadata": {
        "id": "1rmlgfvdZoV4"
      },
      "source": [
        "Date: 06.06.2021\n",
        "\n",
        "Author:[Baishnab Parida](https://github.com/Baishnab1234/MLnow_Girlscript)"
      ]
    },
    {
      "cell_type": "code",
      "metadata": {
        "colab": {
          "base_uri": "https://localhost:8080/"
        },
        "id": "u6E2SvEKakiO",
        "outputId": "1c1ebc50-4719-4e6f-a241-20234a5e3600"
      },
      "source": [
        "cd'/content/drive/MyDrive/Colab Notebooks/EDA FILE'"
      ],
      "execution_count": 47,
      "outputs": [
        {
          "output_type": "stream",
          "text": [
            "/content/drive/MyDrive/Colab Notebooks/EDA FILE\n"
          ],
          "name": "stdout"
        }
      ]
    },
    {
      "cell_type": "code",
      "metadata": {
        "colab": {
          "base_uri": "https://localhost:8080/"
        },
        "id": "OmoqiMcksWCv",
        "outputId": "96e155e3-b7cf-4727-fd20-6f382632c70d"
      },
      "source": [
        "ls"
      ],
      "execution_count": 48,
      "outputs": [
        {
          "output_type": "stream",
          "text": [
            "cleanedMathData.CSV  student-merge.R  student.txt\n",
            "student-mat.csv      student-por.csv  univariate_mathData_2.csv\n"
          ],
          "name": "stdout"
        }
      ]
    },
    {
      "cell_type": "code",
      "metadata": {
        "id": "LRQLVu7rsY0S"
      },
      "source": [
        "import os"
      ],
      "execution_count": 49,
      "outputs": []
    },
    {
      "cell_type": "code",
      "metadata": {
        "id": "4b5qoE43sgd4"
      },
      "source": [
        "import pandas as pd\n",
        "import numpy as np\n",
        "import tensorflow as tf\n",
        "from tensorflow import keras\n",
        "import os\n"
      ],
      "execution_count": 50,
      "outputs": []
    },
    {
      "cell_type": "code",
      "metadata": {
        "id": "2N0xG4QGtJ25"
      },
      "source": [
        "mathData=pd.read_csv('student-mat.csv',sep=';')"
      ],
      "execution_count": 51,
      "outputs": []
    },
    {
      "cell_type": "code",
      "metadata": {
        "colab": {
          "base_uri": "https://localhost:8080/",
          "height": 377
        },
        "id": "ZszMhyqXtvLq",
        "outputId": "22f5a751-df0f-4609-b26a-bac547194be9"
      },
      "source": [
        "mathData.head(10)"
      ],
      "execution_count": 52,
      "outputs": [
        {
          "output_type": "execute_result",
          "data": {
            "text/html": [
              "<div>\n",
              "<style scoped>\n",
              "    .dataframe tbody tr th:only-of-type {\n",
              "        vertical-align: middle;\n",
              "    }\n",
              "\n",
              "    .dataframe tbody tr th {\n",
              "        vertical-align: top;\n",
              "    }\n",
              "\n",
              "    .dataframe thead th {\n",
              "        text-align: right;\n",
              "    }\n",
              "</style>\n",
              "<table border=\"1\" class=\"dataframe\">\n",
              "  <thead>\n",
              "    <tr style=\"text-align: right;\">\n",
              "      <th></th>\n",
              "      <th>school</th>\n",
              "      <th>sex</th>\n",
              "      <th>age</th>\n",
              "      <th>address</th>\n",
              "      <th>famsize</th>\n",
              "      <th>Pstatus</th>\n",
              "      <th>Medu</th>\n",
              "      <th>Fedu</th>\n",
              "      <th>Mjob</th>\n",
              "      <th>Fjob</th>\n",
              "      <th>reason</th>\n",
              "      <th>guardian</th>\n",
              "      <th>traveltime</th>\n",
              "      <th>studytime</th>\n",
              "      <th>failures</th>\n",
              "      <th>schoolsup</th>\n",
              "      <th>famsup</th>\n",
              "      <th>paid</th>\n",
              "      <th>activities</th>\n",
              "      <th>nursery</th>\n",
              "      <th>higher</th>\n",
              "      <th>internet</th>\n",
              "      <th>romantic</th>\n",
              "      <th>famrel</th>\n",
              "      <th>freetime</th>\n",
              "      <th>goout</th>\n",
              "      <th>Dalc</th>\n",
              "      <th>Walc</th>\n",
              "      <th>health</th>\n",
              "      <th>absences</th>\n",
              "      <th>G1</th>\n",
              "      <th>G2</th>\n",
              "      <th>G3</th>\n",
              "    </tr>\n",
              "  </thead>\n",
              "  <tbody>\n",
              "    <tr>\n",
              "      <th>0</th>\n",
              "      <td>GP</td>\n",
              "      <td>F</td>\n",
              "      <td>18</td>\n",
              "      <td>U</td>\n",
              "      <td>GT3</td>\n",
              "      <td>A</td>\n",
              "      <td>4</td>\n",
              "      <td>4</td>\n",
              "      <td>at_home</td>\n",
              "      <td>teacher</td>\n",
              "      <td>course</td>\n",
              "      <td>mother</td>\n",
              "      <td>2</td>\n",
              "      <td>2</td>\n",
              "      <td>0</td>\n",
              "      <td>yes</td>\n",
              "      <td>no</td>\n",
              "      <td>no</td>\n",
              "      <td>no</td>\n",
              "      <td>yes</td>\n",
              "      <td>yes</td>\n",
              "      <td>no</td>\n",
              "      <td>no</td>\n",
              "      <td>4</td>\n",
              "      <td>3</td>\n",
              "      <td>4</td>\n",
              "      <td>1</td>\n",
              "      <td>1</td>\n",
              "      <td>3</td>\n",
              "      <td>6</td>\n",
              "      <td>5</td>\n",
              "      <td>6</td>\n",
              "      <td>6</td>\n",
              "    </tr>\n",
              "    <tr>\n",
              "      <th>1</th>\n",
              "      <td>GP</td>\n",
              "      <td>F</td>\n",
              "      <td>17</td>\n",
              "      <td>U</td>\n",
              "      <td>GT3</td>\n",
              "      <td>T</td>\n",
              "      <td>1</td>\n",
              "      <td>1</td>\n",
              "      <td>at_home</td>\n",
              "      <td>other</td>\n",
              "      <td>course</td>\n",
              "      <td>father</td>\n",
              "      <td>1</td>\n",
              "      <td>2</td>\n",
              "      <td>0</td>\n",
              "      <td>no</td>\n",
              "      <td>yes</td>\n",
              "      <td>no</td>\n",
              "      <td>no</td>\n",
              "      <td>no</td>\n",
              "      <td>yes</td>\n",
              "      <td>yes</td>\n",
              "      <td>no</td>\n",
              "      <td>5</td>\n",
              "      <td>3</td>\n",
              "      <td>3</td>\n",
              "      <td>1</td>\n",
              "      <td>1</td>\n",
              "      <td>3</td>\n",
              "      <td>4</td>\n",
              "      <td>5</td>\n",
              "      <td>5</td>\n",
              "      <td>6</td>\n",
              "    </tr>\n",
              "    <tr>\n",
              "      <th>2</th>\n",
              "      <td>GP</td>\n",
              "      <td>F</td>\n",
              "      <td>15</td>\n",
              "      <td>U</td>\n",
              "      <td>LE3</td>\n",
              "      <td>T</td>\n",
              "      <td>1</td>\n",
              "      <td>1</td>\n",
              "      <td>at_home</td>\n",
              "      <td>other</td>\n",
              "      <td>other</td>\n",
              "      <td>mother</td>\n",
              "      <td>1</td>\n",
              "      <td>2</td>\n",
              "      <td>3</td>\n",
              "      <td>yes</td>\n",
              "      <td>no</td>\n",
              "      <td>yes</td>\n",
              "      <td>no</td>\n",
              "      <td>yes</td>\n",
              "      <td>yes</td>\n",
              "      <td>yes</td>\n",
              "      <td>no</td>\n",
              "      <td>4</td>\n",
              "      <td>3</td>\n",
              "      <td>2</td>\n",
              "      <td>2</td>\n",
              "      <td>3</td>\n",
              "      <td>3</td>\n",
              "      <td>10</td>\n",
              "      <td>7</td>\n",
              "      <td>8</td>\n",
              "      <td>10</td>\n",
              "    </tr>\n",
              "    <tr>\n",
              "      <th>3</th>\n",
              "      <td>GP</td>\n",
              "      <td>F</td>\n",
              "      <td>15</td>\n",
              "      <td>U</td>\n",
              "      <td>GT3</td>\n",
              "      <td>T</td>\n",
              "      <td>4</td>\n",
              "      <td>2</td>\n",
              "      <td>health</td>\n",
              "      <td>services</td>\n",
              "      <td>home</td>\n",
              "      <td>mother</td>\n",
              "      <td>1</td>\n",
              "      <td>3</td>\n",
              "      <td>0</td>\n",
              "      <td>no</td>\n",
              "      <td>yes</td>\n",
              "      <td>yes</td>\n",
              "      <td>yes</td>\n",
              "      <td>yes</td>\n",
              "      <td>yes</td>\n",
              "      <td>yes</td>\n",
              "      <td>yes</td>\n",
              "      <td>3</td>\n",
              "      <td>2</td>\n",
              "      <td>2</td>\n",
              "      <td>1</td>\n",
              "      <td>1</td>\n",
              "      <td>5</td>\n",
              "      <td>2</td>\n",
              "      <td>15</td>\n",
              "      <td>14</td>\n",
              "      <td>15</td>\n",
              "    </tr>\n",
              "    <tr>\n",
              "      <th>4</th>\n",
              "      <td>GP</td>\n",
              "      <td>F</td>\n",
              "      <td>16</td>\n",
              "      <td>U</td>\n",
              "      <td>GT3</td>\n",
              "      <td>T</td>\n",
              "      <td>3</td>\n",
              "      <td>3</td>\n",
              "      <td>other</td>\n",
              "      <td>other</td>\n",
              "      <td>home</td>\n",
              "      <td>father</td>\n",
              "      <td>1</td>\n",
              "      <td>2</td>\n",
              "      <td>0</td>\n",
              "      <td>no</td>\n",
              "      <td>yes</td>\n",
              "      <td>yes</td>\n",
              "      <td>no</td>\n",
              "      <td>yes</td>\n",
              "      <td>yes</td>\n",
              "      <td>no</td>\n",
              "      <td>no</td>\n",
              "      <td>4</td>\n",
              "      <td>3</td>\n",
              "      <td>2</td>\n",
              "      <td>1</td>\n",
              "      <td>2</td>\n",
              "      <td>5</td>\n",
              "      <td>4</td>\n",
              "      <td>6</td>\n",
              "      <td>10</td>\n",
              "      <td>10</td>\n",
              "    </tr>\n",
              "    <tr>\n",
              "      <th>5</th>\n",
              "      <td>GP</td>\n",
              "      <td>M</td>\n",
              "      <td>16</td>\n",
              "      <td>U</td>\n",
              "      <td>LE3</td>\n",
              "      <td>T</td>\n",
              "      <td>4</td>\n",
              "      <td>3</td>\n",
              "      <td>services</td>\n",
              "      <td>other</td>\n",
              "      <td>reputation</td>\n",
              "      <td>mother</td>\n",
              "      <td>1</td>\n",
              "      <td>2</td>\n",
              "      <td>0</td>\n",
              "      <td>no</td>\n",
              "      <td>yes</td>\n",
              "      <td>yes</td>\n",
              "      <td>yes</td>\n",
              "      <td>yes</td>\n",
              "      <td>yes</td>\n",
              "      <td>yes</td>\n",
              "      <td>no</td>\n",
              "      <td>5</td>\n",
              "      <td>4</td>\n",
              "      <td>2</td>\n",
              "      <td>1</td>\n",
              "      <td>2</td>\n",
              "      <td>5</td>\n",
              "      <td>10</td>\n",
              "      <td>15</td>\n",
              "      <td>15</td>\n",
              "      <td>15</td>\n",
              "    </tr>\n",
              "    <tr>\n",
              "      <th>6</th>\n",
              "      <td>GP</td>\n",
              "      <td>M</td>\n",
              "      <td>16</td>\n",
              "      <td>U</td>\n",
              "      <td>LE3</td>\n",
              "      <td>T</td>\n",
              "      <td>2</td>\n",
              "      <td>2</td>\n",
              "      <td>other</td>\n",
              "      <td>other</td>\n",
              "      <td>home</td>\n",
              "      <td>mother</td>\n",
              "      <td>1</td>\n",
              "      <td>2</td>\n",
              "      <td>0</td>\n",
              "      <td>no</td>\n",
              "      <td>no</td>\n",
              "      <td>no</td>\n",
              "      <td>no</td>\n",
              "      <td>yes</td>\n",
              "      <td>yes</td>\n",
              "      <td>yes</td>\n",
              "      <td>no</td>\n",
              "      <td>4</td>\n",
              "      <td>4</td>\n",
              "      <td>4</td>\n",
              "      <td>1</td>\n",
              "      <td>1</td>\n",
              "      <td>3</td>\n",
              "      <td>0</td>\n",
              "      <td>12</td>\n",
              "      <td>12</td>\n",
              "      <td>11</td>\n",
              "    </tr>\n",
              "    <tr>\n",
              "      <th>7</th>\n",
              "      <td>GP</td>\n",
              "      <td>F</td>\n",
              "      <td>17</td>\n",
              "      <td>U</td>\n",
              "      <td>GT3</td>\n",
              "      <td>A</td>\n",
              "      <td>4</td>\n",
              "      <td>4</td>\n",
              "      <td>other</td>\n",
              "      <td>teacher</td>\n",
              "      <td>home</td>\n",
              "      <td>mother</td>\n",
              "      <td>2</td>\n",
              "      <td>2</td>\n",
              "      <td>0</td>\n",
              "      <td>yes</td>\n",
              "      <td>yes</td>\n",
              "      <td>no</td>\n",
              "      <td>no</td>\n",
              "      <td>yes</td>\n",
              "      <td>yes</td>\n",
              "      <td>no</td>\n",
              "      <td>no</td>\n",
              "      <td>4</td>\n",
              "      <td>1</td>\n",
              "      <td>4</td>\n",
              "      <td>1</td>\n",
              "      <td>1</td>\n",
              "      <td>1</td>\n",
              "      <td>6</td>\n",
              "      <td>6</td>\n",
              "      <td>5</td>\n",
              "      <td>6</td>\n",
              "    </tr>\n",
              "    <tr>\n",
              "      <th>8</th>\n",
              "      <td>GP</td>\n",
              "      <td>M</td>\n",
              "      <td>15</td>\n",
              "      <td>U</td>\n",
              "      <td>LE3</td>\n",
              "      <td>A</td>\n",
              "      <td>3</td>\n",
              "      <td>2</td>\n",
              "      <td>services</td>\n",
              "      <td>other</td>\n",
              "      <td>home</td>\n",
              "      <td>mother</td>\n",
              "      <td>1</td>\n",
              "      <td>2</td>\n",
              "      <td>0</td>\n",
              "      <td>no</td>\n",
              "      <td>yes</td>\n",
              "      <td>yes</td>\n",
              "      <td>no</td>\n",
              "      <td>yes</td>\n",
              "      <td>yes</td>\n",
              "      <td>yes</td>\n",
              "      <td>no</td>\n",
              "      <td>4</td>\n",
              "      <td>2</td>\n",
              "      <td>2</td>\n",
              "      <td>1</td>\n",
              "      <td>1</td>\n",
              "      <td>1</td>\n",
              "      <td>0</td>\n",
              "      <td>16</td>\n",
              "      <td>18</td>\n",
              "      <td>19</td>\n",
              "    </tr>\n",
              "    <tr>\n",
              "      <th>9</th>\n",
              "      <td>GP</td>\n",
              "      <td>M</td>\n",
              "      <td>15</td>\n",
              "      <td>U</td>\n",
              "      <td>GT3</td>\n",
              "      <td>T</td>\n",
              "      <td>3</td>\n",
              "      <td>4</td>\n",
              "      <td>other</td>\n",
              "      <td>other</td>\n",
              "      <td>home</td>\n",
              "      <td>mother</td>\n",
              "      <td>1</td>\n",
              "      <td>2</td>\n",
              "      <td>0</td>\n",
              "      <td>no</td>\n",
              "      <td>yes</td>\n",
              "      <td>yes</td>\n",
              "      <td>yes</td>\n",
              "      <td>yes</td>\n",
              "      <td>yes</td>\n",
              "      <td>yes</td>\n",
              "      <td>no</td>\n",
              "      <td>5</td>\n",
              "      <td>5</td>\n",
              "      <td>1</td>\n",
              "      <td>1</td>\n",
              "      <td>1</td>\n",
              "      <td>5</td>\n",
              "      <td>0</td>\n",
              "      <td>14</td>\n",
              "      <td>15</td>\n",
              "      <td>15</td>\n",
              "    </tr>\n",
              "  </tbody>\n",
              "</table>\n",
              "</div>"
            ],
            "text/plain": [
              "  school sex  age address famsize Pstatus  ...  Walc  health absences  G1  G2  G3\n",
              "0     GP   F   18       U     GT3       A  ...     1       3        6   5   6   6\n",
              "1     GP   F   17       U     GT3       T  ...     1       3        4   5   5   6\n",
              "2     GP   F   15       U     LE3       T  ...     3       3       10   7   8  10\n",
              "3     GP   F   15       U     GT3       T  ...     1       5        2  15  14  15\n",
              "4     GP   F   16       U     GT3       T  ...     2       5        4   6  10  10\n",
              "5     GP   M   16       U     LE3       T  ...     2       5       10  15  15  15\n",
              "6     GP   M   16       U     LE3       T  ...     1       3        0  12  12  11\n",
              "7     GP   F   17       U     GT3       A  ...     1       1        6   6   5   6\n",
              "8     GP   M   15       U     LE3       A  ...     1       1        0  16  18  19\n",
              "9     GP   M   15       U     GT3       T  ...     1       5        0  14  15  15\n",
              "\n",
              "[10 rows x 33 columns]"
            ]
          },
          "metadata": {
            "tags": []
          },
          "execution_count": 52
        }
      ]
    },
    {
      "cell_type": "code",
      "metadata": {
        "colab": {
          "base_uri": "https://localhost:8080/",
          "height": 203
        },
        "id": "Xvmg4hQIt3iC",
        "outputId": "9672b75b-e5d8-476b-9247-4d66cb5bdb0b"
      },
      "source": [
        "unimathData=mathData[['G1','G3']]\n",
        "unimathData.head(5)"
      ],
      "execution_count": 53,
      "outputs": [
        {
          "output_type": "execute_result",
          "data": {
            "text/html": [
              "<div>\n",
              "<style scoped>\n",
              "    .dataframe tbody tr th:only-of-type {\n",
              "        vertical-align: middle;\n",
              "    }\n",
              "\n",
              "    .dataframe tbody tr th {\n",
              "        vertical-align: top;\n",
              "    }\n",
              "\n",
              "    .dataframe thead th {\n",
              "        text-align: right;\n",
              "    }\n",
              "</style>\n",
              "<table border=\"1\" class=\"dataframe\">\n",
              "  <thead>\n",
              "    <tr style=\"text-align: right;\">\n",
              "      <th></th>\n",
              "      <th>G1</th>\n",
              "      <th>G3</th>\n",
              "    </tr>\n",
              "  </thead>\n",
              "  <tbody>\n",
              "    <tr>\n",
              "      <th>0</th>\n",
              "      <td>5</td>\n",
              "      <td>6</td>\n",
              "    </tr>\n",
              "    <tr>\n",
              "      <th>1</th>\n",
              "      <td>5</td>\n",
              "      <td>6</td>\n",
              "    </tr>\n",
              "    <tr>\n",
              "      <th>2</th>\n",
              "      <td>7</td>\n",
              "      <td>10</td>\n",
              "    </tr>\n",
              "    <tr>\n",
              "      <th>3</th>\n",
              "      <td>15</td>\n",
              "      <td>15</td>\n",
              "    </tr>\n",
              "    <tr>\n",
              "      <th>4</th>\n",
              "      <td>6</td>\n",
              "      <td>10</td>\n",
              "    </tr>\n",
              "  </tbody>\n",
              "</table>\n",
              "</div>"
            ],
            "text/plain": [
              "   G1  G3\n",
              "0   5   6\n",
              "1   5   6\n",
              "2   7  10\n",
              "3  15  15\n",
              "4   6  10"
            ]
          },
          "metadata": {
            "tags": []
          },
          "execution_count": 53
        }
      ]
    },
    {
      "cell_type": "code",
      "metadata": {
        "id": "K_oIkqulucb8"
      },
      "source": [
        "unimathData.to_csv('univariate_mathData_2.csv')"
      ],
      "execution_count": 54,
      "outputs": []
    },
    {
      "cell_type": "code",
      "metadata": {
        "colab": {
          "base_uri": "https://localhost:8080/"
        },
        "id": "pR61O-jAuz1Y",
        "outputId": "1711e47c-5a64-48e2-d4bc-e073bebfbb0a"
      },
      "source": [
        "ls"
      ],
      "execution_count": 55,
      "outputs": [
        {
          "output_type": "stream",
          "text": [
            "cleanedMathData.CSV  student-merge.R  student.txt\n",
            "student-mat.csv      student-por.csv  univariate_mathData_2.csv\n"
          ],
          "name": "stdout"
        }
      ]
    },
    {
      "cell_type": "code",
      "metadata": {
        "id": "NWLaTr0fu2MA",
        "colab": {
          "base_uri": "https://localhost:8080/",
          "height": 153
        },
        "outputId": "158d3c1a-827c-4bf9-9543-95595e8677db"
      },
      "source": [
        "import seaborn as sns\n",
        "sns.palplot(sns.color_palette('PuOr'))\n",
        "pal=sns.color_palette('PuOr',6)\n",
        "pal.as_hex()\n",
        "import matplotlib.pyplot as plt\n",
        "plt.style.use(['seaborn'])\n",
        "sns_colors=['#c6690c','#664697']\n",
        "sns.set_palette(sns_colors)\n",
        "sns.palplot(sns.color_palette(sns_colors))"
      ],
      "execution_count": 56,
      "outputs": [
        {
          "output_type": "display_data",
          "data": {
            "image/png": "[encoded data removed]",
            "text/plain": [
              "<Figure size 432x72 with 1 Axes>"
            ]
          },
          "metadata": {
            "tags": []
          }
        },
        {
          "output_type": "display_data",
          "data": {
            "image/png": "[encoded data removed]",
            "text/plain": [
              "<Figure size 144x72 with 1 Axes>"
            ]
          },
          "metadata": {
            "tags": []
          }
        }
      ]
    },
    {
      "cell_type": "code",
      "metadata": {
        "colab": {
          "base_uri": "https://localhost:8080/"
        },
        "id": "CDm65EtLC9Wn",
        "outputId": "354e8d74-ae24-48d8-9b6c-331adc5bf426"
      },
      "source": [
        "unimathData.columns"
      ],
      "execution_count": 57,
      "outputs": [
        {
          "output_type": "execute_result",
          "data": {
            "text/plain": [
              "Index(['G1', 'G3'], dtype='object')"
            ]
          },
          "metadata": {
            "tags": []
          },
          "execution_count": 57
        }
      ]
    },
    {
      "cell_type": "code",
      "metadata": {
        "colab": {
          "base_uri": "https://localhost:8080/",
          "height": 391
        },
        "id": "Wfg3BxrdDDzC",
        "outputId": "8ca998ef-d337-41a0-8c1d-485f023375dc"
      },
      "source": [
        "sns.pairplot(unimathData,\n",
        "x_vars=['G1','G3'],\n",
        "y_vars=['G1','G3'],\n",
        "diag_kind='kde'\n",
        ")"
      ],
      "execution_count": 59,
      "outputs": [
        {
          "output_type": "execute_result",
          "data": {
            "text/plain": [
              "<seaborn.axisgrid.PairGrid at 0x7f0015531610>"
            ]
          },
          "metadata": {
            "tags": []
          },
          "execution_count": 59
        },
        {
          "output_type": "display_data",
          "data": {
            "image/png": "[encoded data removed]",
            "text/plain": [
              "<Figure size 360x360 with 6 Axes>"
            ]
          },
          "metadata": {
            "tags": []
          }
        }
      ]
    },
    {
      "cell_type": "code",
      "metadata": {
        "colab": {
          "base_uri": "https://localhost:8080/"
        },
        "id": "oqH9pLOUDrCQ",
        "outputId": "cddff6e0-4171-41f8-de56-e5aad203663a"
      },
      "source": [
        "trainDataset=unimathData.sample(frac=0.8,random_state=0)\n",
        "testDataset=unimathData.drop(trainDataset.index)\n",
        "print(trainDataset.head())\n",
        "print(testDataset.head())"
      ],
      "execution_count": 60,
      "outputs": [
        {
          "output_type": "stream",
          "text": [
            "     G1  G3\n",
            "329  14  14\n",
            "318  11  10\n",
            "317   9   9\n",
            "65   16  15\n",
            "59   15  16\n",
            "    G1  G3\n",
            "9   14  15\n",
            "25   6   8\n",
            "28  11  11\n",
            "31  17  17\n",
            "32  17  16\n"
          ],
          "name": "stdout"
        }
      ]
    },
    {
      "cell_type": "code",
      "metadata": {
        "colab": {
          "base_uri": "https://localhost:8080/"
        },
        "id": "SXJN-pLuFGUp",
        "outputId": "7d3609eb-ea92-43de-8a7a-7e7a909dde35"
      },
      "source": [
        "trainFeatures=trainDataset.copy()\n",
        "testFeatures=testDataset.copy()\n",
        "print(trainFeatures.head())\n",
        "print(testFeatures.head())"
      ],
      "execution_count": 61,
      "outputs": [
        {
          "output_type": "stream",
          "text": [
            "     G1  G3\n",
            "329  14  14\n",
            "318  11  10\n",
            "317   9   9\n",
            "65   16  15\n",
            "59   15  16\n",
            "    G1  G3\n",
            "9   14  15\n",
            "25   6   8\n",
            "28  11  11\n",
            "31  17  17\n",
            "32  17  16\n"
          ],
          "name": "stdout"
        }
      ]
    },
    {
      "cell_type": "code",
      "metadata": {
        "colab": {
          "base_uri": "https://localhost:8080/"
        },
        "id": "M-rX5HDrEO2m",
        "outputId": "32eaa871-c26a-40aa-d15d-c0f3ed74ff6a"
      },
      "source": [
        "print(trainDataset.shape)\n",
        "print(testDataset.shape)"
      ],
      "execution_count": 62,
      "outputs": [
        {
          "output_type": "stream",
          "text": [
            "(316, 2)\n",
            "(79, 2)\n"
          ],
          "name": "stdout"
        }
      ]
    },
    {
      "cell_type": "code",
      "metadata": {
        "colab": {
          "base_uri": "https://localhost:8080/"
        },
        "id": "P8Teno2zEcbf",
        "outputId": "98b0ff97-16ae-45a4-d769-276438206156"
      },
      "source": [
        "trainLabels=trainFeatures.pop('G3')\n",
        "testLabels=testFeatures.pop('G3')\n",
        "print(trainLabels.head())\n",
        "print(testLabels.head())"
      ],
      "execution_count": 63,
      "outputs": [
        {
          "output_type": "stream",
          "text": [
            "329    14\n",
            "318    10\n",
            "317     9\n",
            "65     15\n",
            "59     16\n",
            "Name: G3, dtype: int64\n",
            "9     15\n",
            "25     8\n",
            "28    11\n",
            "31    17\n",
            "32    16\n",
            "Name: G3, dtype: int64\n"
          ],
          "name": "stdout"
        }
      ]
    },
    {
      "cell_type": "code",
      "metadata": {
        "colab": {
          "base_uri": "https://localhost:8080/"
        },
        "id": "h-5IS1eAFrvl",
        "outputId": "716af1f8-d1be-4102-ef79-88cf9308b67b"
      },
      "source": [
        "print(trainFeatures.head())\n",
        "print(testFeatures.head())"
      ],
      "execution_count": 64,
      "outputs": [
        {
          "output_type": "stream",
          "text": [
            "     G1\n",
            "329  14\n",
            "318  11\n",
            "317   9\n",
            "65   16\n",
            "59   15\n",
            "    G1\n",
            "9   14\n",
            "25   6\n",
            "28  11\n",
            "31  17\n",
            "32  17\n"
          ],
          "name": "stdout"
        }
      ]
    },
    {
      "cell_type": "code",
      "metadata": {
        "id": "M85WZn05F6zh"
      },
      "source": [
        "model=tf.keras.Sequential([tf.keras.layers.Dense(1)])"
      ],
      "execution_count": 65,
      "outputs": []
    },
    {
      "cell_type": "code",
      "metadata": {
        "id": "p0JTB3D7GtQa"
      },
      "source": [
        "model.compile(loss='mean_absolute_error',\n",
        "              optimizer=tf.keras.optimizers.Adam(0.001), metrics=['mae','mse'])"
      ],
      "execution_count": 66,
      "outputs": []
    },
    {
      "cell_type": "code",
      "metadata": {
        "colab": {
          "base_uri": "https://localhost:8080/"
        },
        "id": "nDBdChMwHy19",
        "outputId": "4249b63d-0884-4138-edbc-8e06ff51879b"
      },
      "source": [
        "numEpochs=300\n",
        "history=model.fit(x=trainFeatures,y=trainLabels,validation_data=(testFeatures,testLabels),epochs=numEpochs)"
      ],
      "execution_count": 67,
      "outputs": [
        {
          "output_type": "stream",
          "text": [
            "Epoch 1/300\n",
            "10/10 [==============================] - 0s 18ms/step - loss: 17.7283 - mae: 17.7283 - mse: 356.4711 - val_loss: 18.6985 - val_mae: 18.6985 - val_mse: 394.4748\n",
            "Epoch 2/300\n",
            "10/10 [==============================] - 0s 4ms/step - loss: 17.6109 - mae: 17.6109 - mse: 351.9644 - val_loss: 18.5739 - val_mae: 18.5739 - val_mse: 389.4054\n",
            "Epoch 3/300\n",
            "10/10 [==============================] - 0s 4ms/step - loss: 17.4931 - mae: 17.4931 - mse: 347.4490 - val_loss: 18.4495 - val_mae: 18.4495 - val_mse: 384.3743\n",
            "Epoch 4/300\n",
            "10/10 [==============================] - 0s 4ms/step - loss: 17.3754 - mae: 17.3754 - mse: 342.9340 - val_loss: 18.3252 - val_mae: 18.3252 - val_mse: 379.3804\n",
            "Epoch 5/300\n",
            "10/10 [==============================] - 0s 4ms/step - loss: 17.2589 - mae: 17.2589 - mse: 338.5765 - val_loss: 18.2001 - val_mae: 18.2001 - val_mse: 374.3913\n",
            "Epoch 6/300\n",
            "10/10 [==============================] - 0s 4ms/step - loss: 17.1409 - mae: 17.1409 - mse: 334.1374 - val_loss: 18.0757 - val_mae: 18.0757 - val_mse: 369.4600\n",
            "Epoch 7/300\n",
            "10/10 [==============================] - 0s 4ms/step - loss: 17.0226 - mae: 17.0226 - mse: 329.6712 - val_loss: 17.9517 - val_mae: 17.9517 - val_mse: 364.5786\n",
            "Epoch 8/300\n",
            "10/10 [==============================] - 0s 3ms/step - loss: 16.9057 - mae: 16.9057 - mse: 325.3575 - val_loss: 17.8270 - val_mae: 17.8270 - val_mse: 359.7036\n",
            "Epoch 9/300\n",
            "10/10 [==============================] - 0s 3ms/step - loss: 16.7880 - mae: 16.7880 - mse: 321.0314 - val_loss: 17.7024 - val_mae: 17.7024 - val_mse: 354.8641\n",
            "Epoch 10/300\n",
            "10/10 [==============================] - 0s 5ms/step - loss: 16.6705 - mae: 16.6705 - mse: 316.7373 - val_loss: 17.5778 - val_mae: 17.5778 - val_mse: 350.0603\n",
            "Epoch 11/300\n",
            "10/10 [==============================] - 0s 4ms/step - loss: 16.5531 - mae: 16.5531 - mse: 312.4730 - val_loss: 17.4532 - val_mae: 17.4532 - val_mse: 345.2855\n",
            "Epoch 12/300\n",
            "10/10 [==============================] - 0s 4ms/step - loss: 16.4357 - mae: 16.4357 - mse: 308.2557 - val_loss: 17.3285 - val_mae: 17.3285 - val_mse: 340.5432\n",
            "Epoch 13/300\n",
            "10/10 [==============================] - 0s 4ms/step - loss: 16.3180 - mae: 16.3180 - mse: 304.0304 - val_loss: 17.2039 - val_mae: 17.2039 - val_mse: 335.8408\n",
            "Epoch 14/300\n",
            "10/10 [==============================] - 0s 4ms/step - loss: 16.2004 - mae: 16.2004 - mse: 299.8678 - val_loss: 17.0794 - val_mae: 17.0794 - val_mse: 331.1732\n",
            "Epoch 15/300\n",
            "10/10 [==============================] - 0s 4ms/step - loss: 16.0825 - mae: 16.0825 - mse: 295.6780 - val_loss: 16.9553 - val_mae: 16.9553 - val_mse: 326.5529\n",
            "Epoch 16/300\n",
            "10/10 [==============================] - 0s 6ms/step - loss: 15.9657 - mae: 15.9657 - mse: 291.6200 - val_loss: 16.8305 - val_mae: 16.8305 - val_mse: 321.9415\n",
            "Epoch 17/300\n",
            "10/10 [==============================] - 0s 3ms/step - loss: 15.8476 - mae: 15.8476 - mse: 287.4868 - val_loss: 16.7063 - val_mae: 16.7063 - val_mse: 317.3825\n",
            "Epoch 18/300\n",
            "10/10 [==============================] - 0s 4ms/step - loss: 15.7299 - mae: 15.7299 - mse: 283.4030 - val_loss: 16.5820 - val_mae: 16.5820 - val_mse: 312.8570\n",
            "Epoch 19/300\n",
            "10/10 [==============================] - 0s 4ms/step - loss: 15.6125 - mae: 15.6125 - mse: 279.3878 - val_loss: 16.4576 - val_mae: 16.4576 - val_mse: 308.3581\n",
            "Epoch 20/300\n",
            "10/10 [==============================] - 0s 3ms/step - loss: 15.4952 - mae: 15.4952 - mse: 275.4035 - val_loss: 16.3328 - val_mae: 16.3328 - val_mse: 303.8812\n",
            "Epoch 21/300\n",
            "10/10 [==============================] - 0s 4ms/step - loss: 15.3778 - mae: 15.3778 - mse: 271.4690 - val_loss: 16.2080 - val_mae: 16.2080 - val_mse: 299.4352\n",
            "Epoch 22/300\n",
            "10/10 [==============================] - 0s 4ms/step - loss: 15.2597 - mae: 15.2597 - mse: 267.4753 - val_loss: 16.0837 - val_mae: 16.0837 - val_mse: 295.0414\n",
            "Epoch 23/300\n",
            "10/10 [==============================] - 0s 3ms/step - loss: 15.1422 - mae: 15.1422 - mse: 263.5654 - val_loss: 15.9593 - val_mae: 15.9593 - val_mse: 290.6770\n",
            "Epoch 24/300\n",
            "10/10 [==============================] - 0s 4ms/step - loss: 15.0252 - mae: 15.0252 - mse: 259.7292 - val_loss: 15.8343 - val_mae: 15.8343 - val_mse: 286.3269\n",
            "Epoch 25/300\n",
            "10/10 [==============================] - 0s 5ms/step - loss: 14.9068 - mae: 14.9068 - mse: 255.7991 - val_loss: 15.7102 - val_mae: 15.7102 - val_mse: 282.0398\n",
            "Epoch 26/300\n",
            "10/10 [==============================] - 0s 5ms/step - loss: 14.7901 - mae: 14.7901 - mse: 252.0582 - val_loss: 15.5851 - val_mae: 15.5851 - val_mse: 277.7509\n",
            "Epoch 27/300\n",
            "10/10 [==============================] - 0s 5ms/step - loss: 14.6721 - mae: 14.6721 - mse: 248.2556 - val_loss: 15.4604 - val_mae: 15.4604 - val_mse: 273.5103\n",
            "Epoch 28/300\n",
            "10/10 [==============================] - 0s 4ms/step - loss: 14.5545 - mae: 14.5545 - mse: 244.5083 - val_loss: 15.3358 - val_mae: 15.3358 - val_mse: 269.3072\n",
            "Epoch 29/300\n",
            "10/10 [==============================] - 0s 4ms/step - loss: 14.4367 - mae: 14.4367 - mse: 240.7312 - val_loss: 15.2116 - val_mae: 15.2116 - val_mse: 265.1475\n",
            "Epoch 30/300\n",
            "10/10 [==============================] - 0s 4ms/step - loss: 14.3197 - mae: 14.3197 - mse: 237.0705 - val_loss: 15.0867 - val_mae: 15.0867 - val_mse: 261.0006\n",
            "Epoch 31/300\n",
            "10/10 [==============================] - 0s 3ms/step - loss: 14.2017 - mae: 14.2017 - mse: 233.3971 - val_loss: 14.9623 - val_mae: 14.9623 - val_mse: 256.9039\n",
            "Epoch 32/300\n",
            "10/10 [==============================] - 0s 3ms/step - loss: 14.0841 - mae: 14.0841 - mse: 229.7251 - val_loss: 14.8380 - val_mae: 14.8380 - val_mse: 252.8426\n",
            "Epoch 33/300\n",
            "10/10 [==============================] - 0s 3ms/step - loss: 13.9664 - mae: 13.9664 - mse: 226.1009 - val_loss: 14.7138 - val_mae: 14.7138 - val_mse: 248.8176\n",
            "Epoch 34/300\n",
            "10/10 [==============================] - 0s 6ms/step - loss: 13.8496 - mae: 13.8496 - mse: 222.5613 - val_loss: 14.5887 - val_mae: 14.5887 - val_mse: 244.7993\n",
            "Epoch 35/300\n",
            "10/10 [==============================] - 0s 4ms/step - loss: 13.7318 - mae: 13.7318 - mse: 219.0088 - val_loss: 14.4640 - val_mae: 14.4640 - val_mse: 240.8241\n",
            "Epoch 36/300\n",
            "10/10 [==============================] - 0s 4ms/step - loss: 13.6138 - mae: 13.6138 - mse: 215.4606 - val_loss: 14.3398 - val_mae: 14.3398 - val_mse: 236.9011\n",
            "Epoch 37/300\n",
            "10/10 [==============================] - 0s 3ms/step - loss: 13.4963 - mae: 13.4963 - mse: 211.9333 - val_loss: 14.2155 - val_mae: 14.2155 - val_mse: 233.0051\n",
            "Epoch 38/300\n",
            "10/10 [==============================] - 0s 3ms/step - loss: 13.3795 - mae: 13.3795 - mse: 208.5359 - val_loss: 14.0904 - val_mae: 14.0904 - val_mse: 229.1179\n",
            "Epoch 39/300\n",
            "10/10 [==============================] - 0s 4ms/step - loss: 13.2611 - mae: 13.2611 - mse: 205.0519 - val_loss: 13.9661 - val_mae: 13.9661 - val_mse: 225.2926\n",
            "Epoch 40/300\n",
            "10/10 [==============================] - 0s 4ms/step - loss: 13.1442 - mae: 13.1442 - mse: 201.6749 - val_loss: 13.8414 - val_mae: 13.8414 - val_mse: 221.4833\n",
            "Epoch 41/300\n",
            "10/10 [==============================] - 0s 4ms/step - loss: 13.0266 - mae: 13.0266 - mse: 198.3339 - val_loss: 13.7166 - val_mae: 13.7166 - val_mse: 217.7075\n",
            "Epoch 42/300\n",
            "10/10 [==============================] - 0s 3ms/step - loss: 12.9082 - mae: 12.9082 - mse: 194.9047 - val_loss: 13.5926 - val_mae: 13.5926 - val_mse: 213.9906\n",
            "Epoch 43/300\n",
            "10/10 [==============================] - 0s 3ms/step - loss: 12.7910 - mae: 12.7910 - mse: 191.6143 - val_loss: 13.4684 - val_mae: 13.4684 - val_mse: 210.2966\n",
            "Epoch 44/300\n",
            "10/10 [==============================] - 0s 5ms/step - loss: 12.6739 - mae: 12.6739 - mse: 188.3478 - val_loss: 13.3436 - val_mae: 13.3436 - val_mse: 206.6205\n",
            "Epoch 45/300\n",
            "10/10 [==============================] - 0s 4ms/step - loss: 12.5561 - mae: 12.5561 - mse: 185.0974 - val_loss: 13.2190 - val_mae: 13.2190 - val_mse: 202.9836\n",
            "Epoch 46/300\n",
            "10/10 [==============================] - 0s 4ms/step - loss: 12.4388 - mae: 12.4388 - mse: 181.8656 - val_loss: 13.0941 - val_mae: 13.0941 - val_mse: 199.3729\n",
            "Epoch 47/300\n",
            "10/10 [==============================] - 0s 3ms/step - loss: 12.3206 - mae: 12.3206 - mse: 178.6345 - val_loss: 12.9699 - val_mae: 12.9699 - val_mse: 195.8144\n",
            "Epoch 48/300\n",
            "10/10 [==============================] - 0s 3ms/step - loss: 12.2033 - mae: 12.2033 - mse: 175.4940 - val_loss: 12.8453 - val_mae: 12.8453 - val_mse: 192.2781\n",
            "Epoch 49/300\n",
            "10/10 [==============================] - 0s 4ms/step - loss: 12.0853 - mae: 12.0853 - mse: 172.3324 - val_loss: 12.7212 - val_mae: 12.7212 - val_mse: 188.7866\n",
            "Epoch 50/300\n",
            "10/10 [==============================] - 0s 4ms/step - loss: 11.9680 - mae: 11.9680 - mse: 169.2364 - val_loss: 12.5965 - val_mae: 12.5965 - val_mse: 185.3136\n",
            "Epoch 51/300\n",
            "10/10 [==============================] - 0s 4ms/step - loss: 11.8504 - mae: 11.8504 - mse: 166.1516 - val_loss: 12.4717 - val_mae: 12.4717 - val_mse: 181.8716\n",
            "Epoch 52/300\n",
            "10/10 [==============================] - 0s 4ms/step - loss: 11.7334 - mae: 11.7334 - mse: 163.1600 - val_loss: 12.3463 - val_mae: 12.3463 - val_mse: 178.4478\n",
            "Epoch 53/300\n",
            "10/10 [==============================] - 0s 4ms/step - loss: 11.6144 - mae: 11.6144 - mse: 160.0499 - val_loss: 12.2225 - val_mae: 12.2225 - val_mse: 175.1000\n",
            "Epoch 54/300\n",
            "10/10 [==============================] - 0s 3ms/step - loss: 11.4980 - mae: 11.4980 - mse: 157.1353 - val_loss: 12.0975 - val_mae: 12.0975 - val_mse: 171.7520\n",
            "Epoch 55/300\n",
            "10/10 [==============================] - 0s 5ms/step - loss: 11.3796 - mae: 11.3796 - mse: 154.1301 - val_loss: 11.9732 - val_mae: 11.9732 - val_mse: 168.4557\n",
            "Epoch 56/300\n",
            "10/10 [==============================] - 0s 4ms/step - loss: 11.2624 - mae: 11.2624 - mse: 151.2207 - val_loss: 11.8485 - val_mae: 11.8485 - val_mse: 165.1854\n",
            "Epoch 57/300\n",
            "10/10 [==============================] - 0s 4ms/step - loss: 11.1455 - mae: 11.1455 - mse: 148.3543 - val_loss: 11.7238 - val_mae: 11.7238 - val_mse: 161.9466\n",
            "Epoch 58/300\n",
            "10/10 [==============================] - 0s 4ms/step - loss: 11.0285 - mae: 11.0285 - mse: 145.4828 - val_loss: 11.5994 - val_mae: 11.5994 - val_mse: 158.7486\n",
            "Epoch 59/300\n",
            "10/10 [==============================] - 0s 4ms/step - loss: 10.9114 - mae: 10.9114 - mse: 142.6339 - val_loss: 11.4760 - val_mae: 11.4760 - val_mse: 155.6090\n",
            "Epoch 60/300\n",
            "10/10 [==============================] - 0s 4ms/step - loss: 10.7968 - mae: 10.7968 - mse: 139.8192 - val_loss: 11.3538 - val_mae: 11.3538 - val_mse: 152.5142\n",
            "Epoch 61/300\n",
            "10/10 [==============================] - 0s 4ms/step - loss: 10.6849 - mae: 10.6849 - mse: 137.1380 - val_loss: 11.2367 - val_mae: 11.2367 - val_mse: 149.5300\n",
            "Epoch 62/300\n",
            "10/10 [==============================] - 0s 4ms/step - loss: 10.5785 - mae: 10.5785 - mse: 134.4783 - val_loss: 11.1283 - val_mae: 11.1283 - val_mse: 146.6125\n",
            "Epoch 63/300\n",
            "10/10 [==============================] - 0s 4ms/step - loss: 10.4775 - mae: 10.4775 - mse: 131.9633 - val_loss: 11.0237 - val_mae: 11.0237 - val_mse: 143.7271\n",
            "Epoch 64/300\n",
            "10/10 [==============================] - 0s 4ms/step - loss: 10.3765 - mae: 10.3765 - mse: 129.3770 - val_loss: 10.9236 - val_mae: 10.9236 - val_mse: 140.9912\n",
            "Epoch 65/300\n",
            "10/10 [==============================] - 0s 4ms/step - loss: 10.2854 - mae: 10.2854 - mse: 127.0030 - val_loss: 10.8245 - val_mae: 10.8245 - val_mse: 138.3121\n",
            "Epoch 66/300\n",
            "10/10 [==============================] - 0s 4ms/step - loss: 10.1947 - mae: 10.1947 - mse: 124.6375 - val_loss: 10.7288 - val_mae: 10.7288 - val_mse: 135.7498\n",
            "Epoch 67/300\n",
            "10/10 [==============================] - 0s 3ms/step - loss: 10.1088 - mae: 10.1088 - mse: 122.3921 - val_loss: 10.6314 - val_mae: 10.6314 - val_mse: 133.1658\n",
            "Epoch 68/300\n",
            "10/10 [==============================] - 0s 4ms/step - loss: 10.0212 - mae: 10.0212 - mse: 120.1219 - val_loss: 10.5341 - val_mae: 10.5341 - val_mse: 130.6135\n",
            "Epoch 69/300\n",
            "10/10 [==============================] - 0s 3ms/step - loss: 9.9309 - mae: 9.9309 - mse: 117.8548 - val_loss: 10.4395 - val_mae: 10.4395 - val_mse: 128.1567\n",
            "Epoch 70/300\n",
            "10/10 [==============================] - 0s 4ms/step - loss: 9.8443 - mae: 9.8443 - mse: 115.6984 - val_loss: 10.3432 - val_mae: 10.3432 - val_mse: 125.6806\n",
            "Epoch 71/300\n",
            "10/10 [==============================] - 0s 3ms/step - loss: 9.7551 - mae: 9.7551 - mse: 113.4538 - val_loss: 10.2481 - val_mae: 10.2481 - val_mse: 123.2583\n",
            "Epoch 72/300\n",
            "10/10 [==============================] - 0s 5ms/step - loss: 9.6673 - mae: 9.6673 - mse: 111.2887 - val_loss: 10.1520 - val_mae: 10.1520 - val_mse: 120.8371\n",
            "Epoch 73/300\n",
            "10/10 [==============================] - 0s 4ms/step - loss: 9.5794 - mae: 9.5794 - mse: 109.1335 - val_loss: 10.0549 - val_mae: 10.0549 - val_mse: 118.4175\n",
            "Epoch 74/300\n",
            "10/10 [==============================] - 0s 4ms/step - loss: 9.4918 - mae: 9.4918 - mse: 107.0150 - val_loss: 9.9563 - val_mae: 9.9563 - val_mse: 115.9875\n",
            "Epoch 75/300\n",
            "10/10 [==============================] - 0s 4ms/step - loss: 9.4016 - mae: 9.4016 - mse: 104.8656 - val_loss: 9.8590 - val_mae: 9.8590 - val_mse: 113.6140\n",
            "Epoch 76/300\n",
            "10/10 [==============================] - 0s 4ms/step - loss: 9.3134 - mae: 9.3134 - mse: 102.7668 - val_loss: 9.7608 - val_mae: 9.7608 - val_mse: 111.2451\n",
            "Epoch 77/300\n",
            "10/10 [==============================] - 0s 4ms/step - loss: 9.2223 - mae: 9.2223 - mse: 100.6655 - val_loss: 9.6646 - val_mae: 9.6646 - val_mse: 108.9513\n",
            "Epoch 78/300\n",
            "10/10 [==============================] - 0s 4ms/step - loss: 9.1354 - mae: 9.1354 - mse: 98.6249 - val_loss: 9.5654 - val_mae: 9.5654 - val_mse: 106.6128\n",
            "Epoch 79/300\n",
            "10/10 [==============================] - 0s 4ms/step - loss: 9.0438 - mae: 9.0438 - mse: 96.5505 - val_loss: 9.4680 - val_mae: 9.4680 - val_mse: 104.3426\n",
            "Epoch 80/300\n",
            "10/10 [==============================] - 0s 4ms/step - loss: 8.9546 - mae: 8.9546 - mse: 94.5347 - val_loss: 9.3697 - val_mae: 9.3697 - val_mse: 102.0781\n",
            "Epoch 81/300\n",
            "10/10 [==============================] - 0s 4ms/step - loss: 8.8663 - mae: 8.8663 - mse: 92.5837 - val_loss: 9.2696 - val_mae: 9.2696 - val_mse: 99.7991\n",
            "Epoch 82/300\n",
            "10/10 [==============================] - 0s 4ms/step - loss: 8.7735 - mae: 8.7735 - mse: 90.5252 - val_loss: 9.1724 - val_mae: 9.1724 - val_mse: 97.6107\n",
            "Epoch 83/300\n",
            "10/10 [==============================] - 0s 5ms/step - loss: 8.6847 - mae: 8.6847 - mse: 88.5775 - val_loss: 9.0733 - val_mae: 9.0733 - val_mse: 95.4083\n",
            "Epoch 84/300\n",
            "10/10 [==============================] - 0s 4ms/step - loss: 8.5942 - mae: 8.5942 - mse: 86.6366 - val_loss: 8.9742 - val_mae: 8.9742 - val_mse: 93.2339\n",
            "Epoch 85/300\n",
            "10/10 [==============================] - 0s 4ms/step - loss: 8.5037 - mae: 8.5037 - mse: 84.6926 - val_loss: 8.8749 - val_mae: 8.8749 - val_mse: 91.0800\n",
            "Epoch 86/300\n",
            "10/10 [==============================] - 0s 4ms/step - loss: 8.4134 - mae: 8.4134 - mse: 82.7777 - val_loss: 8.7751 - val_mae: 8.7751 - val_mse: 88.9442\n",
            "Epoch 87/300\n",
            "10/10 [==============================] - 0s 4ms/step - loss: 8.3226 - mae: 8.3226 - mse: 80.9218 - val_loss: 8.6754 - val_mae: 8.6754 - val_mse: 86.8374\n",
            "Epoch 88/300\n",
            "10/10 [==============================] - 0s 4ms/step - loss: 8.2306 - mae: 8.2306 - mse: 79.0338 - val_loss: 8.5766 - val_mae: 8.5766 - val_mse: 84.7768\n",
            "Epoch 89/300\n",
            "10/10 [==============================] - 0s 4ms/step - loss: 8.1404 - mae: 8.1404 - mse: 77.2005 - val_loss: 8.4767 - val_mae: 8.4767 - val_mse: 82.7195\n",
            "Epoch 90/300\n",
            "10/10 [==============================] - 0s 4ms/step - loss: 8.0487 - mae: 8.0487 - mse: 75.4073 - val_loss: 8.3772 - val_mae: 8.3772 - val_mse: 80.6971\n",
            "Epoch 91/300\n",
            "10/10 [==============================] - 0s 4ms/step - loss: 7.9571 - mae: 7.9571 - mse: 73.6184 - val_loss: 8.2778 - val_mae: 8.2778 - val_mse: 78.7071\n",
            "Epoch 92/300\n",
            "10/10 [==============================] - 0s 4ms/step - loss: 7.8660 - mae: 7.8660 - mse: 71.8344 - val_loss: 8.1779 - val_mae: 8.1779 - val_mse: 76.7311\n",
            "Epoch 93/300\n",
            "10/10 [==============================] - 0s 4ms/step - loss: 7.7747 - mae: 7.7747 - mse: 70.0797 - val_loss: 8.0773 - val_mae: 8.0773 - val_mse: 74.7719\n",
            "Epoch 94/300\n",
            "10/10 [==============================] - 0s 4ms/step - loss: 7.6826 - mae: 7.6826 - mse: 68.3468 - val_loss: 7.9771 - val_mae: 7.9771 - val_mse: 72.8454\n",
            "Epoch 95/300\n",
            "10/10 [==============================] - 0s 5ms/step - loss: 7.5901 - mae: 7.5901 - mse: 66.6332 - val_loss: 7.8773 - val_mae: 7.8773 - val_mse: 70.9570\n",
            "Epoch 96/300\n",
            "10/10 [==============================] - 0s 4ms/step - loss: 7.4999 - mae: 7.4999 - mse: 64.9673 - val_loss: 7.7754 - val_mae: 7.7754 - val_mse: 69.0541\n",
            "Epoch 97/300\n",
            "10/10 [==============================] - 0s 4ms/step - loss: 7.4069 - mae: 7.4069 - mse: 63.3030 - val_loss: 7.6741 - val_mae: 7.6741 - val_mse: 67.1931\n",
            "Epoch 98/300\n",
            "10/10 [==============================] - 0s 4ms/step - loss: 7.3150 - mae: 7.3150 - mse: 61.6584 - val_loss: 7.5724 - val_mae: 7.5724 - val_mse: 65.3526\n",
            "Epoch 99/300\n",
            "10/10 [==============================] - 0s 4ms/step - loss: 7.2223 - mae: 7.2223 - mse: 60.0305 - val_loss: 7.4711 - val_mae: 7.4711 - val_mse: 63.5459\n",
            "Epoch 100/300\n",
            "10/10 [==============================] - 0s 4ms/step - loss: 7.1285 - mae: 7.1285 - mse: 58.4317 - val_loss: 7.3711 - val_mae: 7.3711 - val_mse: 61.7910\n",
            "Epoch 101/300\n",
            "10/10 [==============================] - 0s 4ms/step - loss: 7.0367 - mae: 7.0367 - mse: 56.8693 - val_loss: 7.2700 - val_mae: 7.2700 - val_mse: 60.0466\n",
            "Epoch 102/300\n",
            "10/10 [==============================] - 0s 5ms/step - loss: 6.9444 - mae: 6.9444 - mse: 55.3267 - val_loss: 7.1685 - val_mae: 7.1685 - val_mse: 58.3216\n",
            "Epoch 103/300\n",
            "10/10 [==============================] - 0s 4ms/step - loss: 6.8512 - mae: 6.8512 - mse: 53.7874 - val_loss: 7.0676 - val_mae: 7.0676 - val_mse: 56.6355\n",
            "Epoch 104/300\n",
            "10/10 [==============================] - 0s 4ms/step - loss: 6.7589 - mae: 6.7589 - mse: 52.3227 - val_loss: 6.9658 - val_mae: 6.9658 - val_mse: 54.9626\n",
            "Epoch 105/300\n",
            "10/10 [==============================] - 0s 4ms/step - loss: 6.6655 - mae: 6.6655 - mse: 50.8367 - val_loss: 6.8645 - val_mae: 6.8645 - val_mse: 53.3259\n",
            "Epoch 106/300\n",
            "10/10 [==============================] - 0s 4ms/step - loss: 6.5734 - mae: 6.5734 - mse: 49.4032 - val_loss: 6.7620 - val_mae: 6.7620 - val_mse: 51.6988\n",
            "Epoch 107/300\n",
            "10/10 [==============================] - 0s 4ms/step - loss: 6.4793 - mae: 6.4793 - mse: 47.9385 - val_loss: 6.6605 - val_mae: 6.6605 - val_mse: 50.1156\n",
            "Epoch 108/300\n",
            "10/10 [==============================] - 0s 4ms/step - loss: 6.3872 - mae: 6.3872 - mse: 46.5682 - val_loss: 6.5577 - val_mae: 6.5577 - val_mse: 48.5419\n",
            "Epoch 109/300\n",
            "10/10 [==============================] - 0s 4ms/step - loss: 6.2927 - mae: 6.2927 - mse: 45.1838 - val_loss: 6.4558 - val_mae: 6.4558 - val_mse: 47.0108\n",
            "Epoch 110/300\n",
            "10/10 [==============================] - 0s 4ms/step - loss: 6.2003 - mae: 6.2003 - mse: 43.8351 - val_loss: 6.3526 - val_mae: 6.3526 - val_mse: 45.4893\n",
            "Epoch 111/300\n",
            "10/10 [==============================] - 0s 4ms/step - loss: 6.1057 - mae: 6.1057 - mse: 42.4739 - val_loss: 6.2506 - val_mae: 6.2506 - val_mse: 44.0137\n",
            "Epoch 112/300\n",
            "10/10 [==============================] - 0s 4ms/step - loss: 6.0126 - mae: 6.0126 - mse: 41.1808 - val_loss: 6.1480 - val_mae: 6.1480 - val_mse: 42.5575\n",
            "Epoch 113/300\n",
            "10/10 [==============================] - 0s 4ms/step - loss: 5.9193 - mae: 5.9193 - mse: 39.9120 - val_loss: 6.0448 - val_mae: 6.0448 - val_mse: 41.1229\n",
            "Epoch 114/300\n",
            "10/10 [==============================] - 0s 4ms/step - loss: 5.8243 - mae: 5.8243 - mse: 38.6484 - val_loss: 5.9428 - val_mae: 5.9428 - val_mse: 39.7343\n",
            "Epoch 115/300\n",
            "10/10 [==============================] - 0s 4ms/step - loss: 5.7305 - mae: 5.7305 - mse: 37.4101 - val_loss: 5.8407 - val_mae: 5.8407 - val_mse: 38.3722\n",
            "Epoch 116/300\n",
            "10/10 [==============================] - 0s 4ms/step - loss: 5.6366 - mae: 5.6366 - mse: 36.2035 - val_loss: 5.7384 - val_mae: 5.7384 - val_mse: 37.0369\n",
            "Epoch 117/300\n",
            "10/10 [==============================] - 0s 4ms/step - loss: 5.5443 - mae: 5.5443 - mse: 35.0511 - val_loss: 5.6342 - val_mae: 5.6342 - val_mse: 35.7051\n",
            "Epoch 118/300\n",
            "10/10 [==============================] - 0s 4ms/step - loss: 5.4491 - mae: 5.4491 - mse: 33.8714 - val_loss: 5.5311 - val_mae: 5.5311 - val_mse: 34.4177\n",
            "Epoch 119/300\n",
            "10/10 [==============================] - 0s 5ms/step - loss: 5.3541 - mae: 5.3541 - mse: 32.7318 - val_loss: 5.4288 - val_mae: 5.4288 - val_mse: 33.1697\n",
            "Epoch 120/300\n",
            "10/10 [==============================] - 0s 5ms/step - loss: 5.2607 - mae: 5.2607 - mse: 31.6329 - val_loss: 5.3256 - val_mae: 5.3256 - val_mse: 31.9391\n",
            "Epoch 121/300\n",
            "10/10 [==============================] - 0s 4ms/step - loss: 5.1676 - mae: 5.1676 - mse: 30.5611 - val_loss: 5.2209 - val_mae: 5.2209 - val_mse: 30.7211\n",
            "Epoch 122/300\n",
            "10/10 [==============================] - 0s 4ms/step - loss: 5.0716 - mae: 5.0716 - mse: 29.5004 - val_loss: 5.1179 - val_mae: 5.1179 - val_mse: 29.5518\n",
            "Epoch 123/300\n",
            "10/10 [==============================] - 0s 4ms/step - loss: 4.9776 - mae: 4.9776 - mse: 28.4660 - val_loss: 5.0146 - val_mae: 5.0146 - val_mse: 28.4079\n",
            "Epoch 124/300\n",
            "10/10 [==============================] - 0s 4ms/step - loss: 4.8850 - mae: 4.8850 - mse: 27.4909 - val_loss: 4.9120 - val_mae: 4.9120 - val_mse: 27.2807\n",
            "Epoch 125/300\n",
            "10/10 [==============================] - 0s 4ms/step - loss: 4.7886 - mae: 4.7886 - mse: 26.4849 - val_loss: 4.8124 - val_mae: 4.8124 - val_mse: 26.2134\n",
            "Epoch 126/300\n",
            "10/10 [==============================] - 0s 4ms/step - loss: 4.6957 - mae: 4.6957 - mse: 25.5252 - val_loss: 4.7119 - val_mae: 4.7119 - val_mse: 25.1643\n",
            "Epoch 127/300\n",
            "10/10 [==============================] - 0s 4ms/step - loss: 4.6026 - mae: 4.6026 - mse: 24.6152 - val_loss: 4.6102 - val_mae: 4.6102 - val_mse: 24.1331\n",
            "Epoch 128/300\n",
            "10/10 [==============================] - 0s 4ms/step - loss: 4.5076 - mae: 4.5076 - mse: 23.7011 - val_loss: 4.5097 - val_mae: 4.5097 - val_mse: 23.1431\n",
            "Epoch 129/300\n",
            "10/10 [==============================] - 0s 4ms/step - loss: 4.4134 - mae: 4.4134 - mse: 22.8437 - val_loss: 4.4091 - val_mae: 4.4091 - val_mse: 22.1813\n",
            "Epoch 130/300\n",
            "10/10 [==============================] - 0s 4ms/step - loss: 4.3220 - mae: 4.3220 - mse: 22.0034 - val_loss: 4.3065 - val_mae: 4.3065 - val_mse: 21.2293\n",
            "Epoch 131/300\n",
            "10/10 [==============================] - 0s 4ms/step - loss: 4.2281 - mae: 4.2281 - mse: 21.1814 - val_loss: 4.2056 - val_mae: 4.2056 - val_mse: 20.3229\n",
            "Epoch 132/300\n",
            "10/10 [==============================] - 0s 4ms/step - loss: 4.1351 - mae: 4.1351 - mse: 20.3916 - val_loss: 4.1055 - val_mae: 4.1055 - val_mse: 19.4532\n",
            "Epoch 133/300\n",
            "10/10 [==============================] - 0s 4ms/step - loss: 4.0426 - mae: 4.0426 - mse: 19.6267 - val_loss: 4.0055 - val_mae: 4.0055 - val_mse: 18.6127\n",
            "Epoch 134/300\n",
            "10/10 [==============================] - 0s 4ms/step - loss: 3.9512 - mae: 3.9512 - mse: 18.8956 - val_loss: 3.9053 - val_mae: 3.9053 - val_mse: 17.7987\n",
            "Epoch 135/300\n",
            "10/10 [==============================] - 0s 4ms/step - loss: 3.8619 - mae: 3.8619 - mse: 18.1986 - val_loss: 3.8033 - val_mae: 3.8033 - val_mse: 17.0006\n",
            "Epoch 136/300\n",
            "10/10 [==============================] - 0s 5ms/step - loss: 3.7675 - mae: 3.7675 - mse: 17.4875 - val_loss: 3.7070 - val_mae: 3.7070 - val_mse: 16.2734\n",
            "Epoch 137/300\n",
            "10/10 [==============================] - 0s 4ms/step - loss: 3.6819 - mae: 3.6819 - mse: 16.8482 - val_loss: 3.6078 - val_mae: 3.6078 - val_mse: 15.5529\n",
            "Epoch 138/300\n",
            "10/10 [==============================] - 0s 5ms/step - loss: 3.5934 - mae: 3.5934 - mse: 16.2308 - val_loss: 3.5095 - val_mae: 3.5095 - val_mse: 14.8668\n",
            "Epoch 139/300\n",
            "10/10 [==============================] - 0s 4ms/step - loss: 3.5055 - mae: 3.5055 - mse: 15.6212 - val_loss: 3.4137 - val_mae: 3.4137 - val_mse: 14.2242\n",
            "Epoch 140/300\n",
            "10/10 [==============================] - 0s 4ms/step - loss: 3.4224 - mae: 3.4224 - mse: 15.0774 - val_loss: 3.3158 - val_mae: 3.3158 - val_mse: 13.5957\n",
            "Epoch 141/300\n",
            "10/10 [==============================] - 0s 4ms/step - loss: 3.3381 - mae: 3.3381 - mse: 14.5438 - val_loss: 3.2186 - val_mae: 3.2186 - val_mse: 12.9977\n",
            "Epoch 142/300\n",
            "10/10 [==============================] - 0s 4ms/step - loss: 3.2538 - mae: 3.2538 - mse: 14.0211 - val_loss: 3.1221 - val_mae: 3.1221 - val_mse: 12.4318\n",
            "Epoch 143/300\n",
            "10/10 [==============================] - 0s 3ms/step - loss: 3.1688 - mae: 3.1688 - mse: 13.5287 - val_loss: 3.0271 - val_mae: 3.0271 - val_mse: 11.9001\n",
            "Epoch 144/300\n",
            "10/10 [==============================] - 0s 4ms/step - loss: 3.0860 - mae: 3.0860 - mse: 13.0556 - val_loss: 2.9374 - val_mae: 2.9374 - val_mse: 11.3964\n",
            "Epoch 145/300\n",
            "10/10 [==============================] - 0s 4ms/step - loss: 3.0082 - mae: 3.0082 - mse: 12.6504 - val_loss: 2.8479 - val_mae: 2.8479 - val_mse: 10.9105\n",
            "Epoch 146/300\n",
            "10/10 [==============================] - 0s 7ms/step - loss: 2.9262 - mae: 2.9262 - mse: 12.2182 - val_loss: 2.7617 - val_mae: 2.7617 - val_mse: 10.4672\n",
            "Epoch 147/300\n",
            "10/10 [==============================] - 0s 4ms/step - loss: 2.8492 - mae: 2.8492 - mse: 11.8378 - val_loss: 2.6778 - val_mae: 2.6778 - val_mse: 10.0529\n",
            "Epoch 148/300\n",
            "10/10 [==============================] - 0s 4ms/step - loss: 2.7747 - mae: 2.7747 - mse: 11.4907 - val_loss: 2.5945 - val_mae: 2.5945 - val_mse: 9.6602\n",
            "Epoch 149/300\n",
            "10/10 [==============================] - 0s 4ms/step - loss: 2.7030 - mae: 2.7030 - mse: 11.1831 - val_loss: 2.5096 - val_mae: 2.5096 - val_mse: 9.2856\n",
            "Epoch 150/300\n",
            "10/10 [==============================] - 0s 4ms/step - loss: 2.6259 - mae: 2.6259 - mse: 10.8375 - val_loss: 2.4305 - val_mae: 2.4305 - val_mse: 8.9591\n",
            "Epoch 151/300\n",
            "10/10 [==============================] - 0s 4ms/step - loss: 2.5570 - mae: 2.5570 - mse: 10.5633 - val_loss: 2.3501 - val_mae: 2.3501 - val_mse: 8.6500\n",
            "Epoch 152/300\n",
            "10/10 [==============================] - 0s 4ms/step - loss: 2.4885 - mae: 2.4885 - mse: 10.3065 - val_loss: 2.2732 - val_mae: 2.2732 - val_mse: 8.3690\n",
            "Epoch 153/300\n",
            "10/10 [==============================] - 0s 4ms/step - loss: 2.4263 - mae: 2.4263 - mse: 10.0576 - val_loss: 2.2009 - val_mae: 2.2009 - val_mse: 8.1242\n",
            "Epoch 154/300\n",
            "10/10 [==============================] - 0s 4ms/step - loss: 2.3700 - mae: 2.3700 - mse: 9.8738 - val_loss: 2.1289 - val_mae: 2.1289 - val_mse: 7.9002\n",
            "Epoch 155/300\n",
            "10/10 [==============================] - 0s 4ms/step - loss: 2.3152 - mae: 2.3152 - mse: 9.6674 - val_loss: 2.0644 - val_mae: 2.0644 - val_mse: 7.7111\n",
            "Epoch 156/300\n",
            "10/10 [==============================] - 0s 4ms/step - loss: 2.2712 - mae: 2.2712 - mse: 9.5164 - val_loss: 2.0068 - val_mae: 2.0068 - val_mse: 7.5522\n",
            "Epoch 157/300\n",
            "10/10 [==============================] - 0s 4ms/step - loss: 2.2333 - mae: 2.2333 - mse: 9.3888 - val_loss: 1.9503 - val_mae: 1.9503 - val_mse: 7.4045\n",
            "Epoch 158/300\n",
            "10/10 [==============================] - 0s 5ms/step - loss: 2.1943 - mae: 2.1943 - mse: 9.2753 - val_loss: 1.9016 - val_mae: 1.9016 - val_mse: 7.2818\n",
            "Epoch 159/300\n",
            "10/10 [==============================] - 0s 4ms/step - loss: 2.1625 - mae: 2.1625 - mse: 9.1664 - val_loss: 1.8586 - val_mae: 1.8586 - val_mse: 7.1811\n",
            "Epoch 160/300\n",
            "10/10 [==============================] - 0s 4ms/step - loss: 2.1340 - mae: 2.1340 - mse: 9.0815 - val_loss: 1.8162 - val_mae: 1.8162 - val_mse: 7.0910\n",
            "Epoch 161/300\n",
            "10/10 [==============================] - 0s 4ms/step - loss: 2.1076 - mae: 2.1076 - mse: 9.0154 - val_loss: 1.7802 - val_mae: 1.7802 - val_mse: 7.0083\n",
            "Epoch 162/300\n",
            "10/10 [==============================] - 0s 4ms/step - loss: 2.0819 - mae: 2.0819 - mse: 8.9528 - val_loss: 1.7512 - val_mae: 1.7512 - val_mse: 6.9414\n",
            "Epoch 163/300\n",
            "10/10 [==============================] - 0s 5ms/step - loss: 2.0586 - mae: 2.0586 - mse: 8.8984 - val_loss: 1.7235 - val_mae: 1.7235 - val_mse: 6.8842\n",
            "Epoch 164/300\n",
            "10/10 [==============================] - 0s 4ms/step - loss: 2.0366 - mae: 2.0366 - mse: 8.8500 - val_loss: 1.7013 - val_mae: 1.7013 - val_mse: 6.8351\n",
            "Epoch 165/300\n",
            "10/10 [==============================] - 0s 4ms/step - loss: 2.0165 - mae: 2.0165 - mse: 8.8165 - val_loss: 1.6825 - val_mae: 1.6825 - val_mse: 6.7955\n",
            "Epoch 166/300\n",
            "10/10 [==============================] - 0s 5ms/step - loss: 1.9990 - mae: 1.9990 - mse: 8.7819 - val_loss: 1.6664 - val_mae: 1.6664 - val_mse: 6.7653\n",
            "Epoch 167/300\n",
            "10/10 [==============================] - 0s 4ms/step - loss: 1.9840 - mae: 1.9840 - mse: 8.7610 - val_loss: 1.6549 - val_mae: 1.6549 - val_mse: 6.7440\n",
            "Epoch 168/300\n",
            "10/10 [==============================] - 0s 3ms/step - loss: 1.9732 - mae: 1.9732 - mse: 8.7459 - val_loss: 1.6441 - val_mae: 1.6441 - val_mse: 6.7275\n",
            "Epoch 169/300\n",
            "10/10 [==============================] - 0s 4ms/step - loss: 1.9618 - mae: 1.9618 - mse: 8.7338 - val_loss: 1.6344 - val_mae: 1.6344 - val_mse: 6.7159\n",
            "Epoch 170/300\n",
            "10/10 [==============================] - 0s 5ms/step - loss: 1.9524 - mae: 1.9524 - mse: 8.7308 - val_loss: 1.6260 - val_mae: 1.6260 - val_mse: 6.7073\n",
            "Epoch 171/300\n",
            "10/10 [==============================] - 0s 4ms/step - loss: 1.9461 - mae: 1.9461 - mse: 8.7294 - val_loss: 1.6197 - val_mae: 1.6197 - val_mse: 6.7028\n",
            "Epoch 172/300\n",
            "10/10 [==============================] - 0s 5ms/step - loss: 1.9388 - mae: 1.9388 - mse: 8.7286 - val_loss: 1.6148 - val_mae: 1.6148 - val_mse: 6.7013\n",
            "Epoch 173/300\n",
            "10/10 [==============================] - 0s 4ms/step - loss: 1.9330 - mae: 1.9330 - mse: 8.7277 - val_loss: 1.6104 - val_mae: 1.6104 - val_mse: 6.7016\n",
            "Epoch 174/300\n",
            "10/10 [==============================] - 0s 5ms/step - loss: 1.9287 - mae: 1.9287 - mse: 8.7302 - val_loss: 1.6097 - val_mae: 1.6097 - val_mse: 6.7039\n",
            "Epoch 175/300\n",
            "10/10 [==============================] - 0s 4ms/step - loss: 1.9250 - mae: 1.9250 - mse: 8.7364 - val_loss: 1.6091 - val_mae: 1.6091 - val_mse: 6.7074\n",
            "Epoch 176/300\n",
            "10/10 [==============================] - 0s 4ms/step - loss: 1.9211 - mae: 1.9211 - mse: 8.7364 - val_loss: 1.6086 - val_mae: 1.6086 - val_mse: 6.7112\n",
            "Epoch 177/300\n",
            "10/10 [==============================] - 0s 4ms/step - loss: 1.9191 - mae: 1.9191 - mse: 8.7427 - val_loss: 1.6096 - val_mae: 1.6096 - val_mse: 6.7163\n",
            "Epoch 178/300\n",
            "10/10 [==============================] - 0s 4ms/step - loss: 1.9179 - mae: 1.9179 - mse: 8.7528 - val_loss: 1.6109 - val_mae: 1.6109 - val_mse: 6.7220\n",
            "Epoch 179/300\n",
            "10/10 [==============================] - 0s 5ms/step - loss: 1.9159 - mae: 1.9159 - mse: 8.7555 - val_loss: 1.6120 - val_mae: 1.6120 - val_mse: 6.7261\n",
            "Epoch 180/300\n",
            "10/10 [==============================] - 0s 4ms/step - loss: 1.9146 - mae: 1.9146 - mse: 8.7574 - val_loss: 1.6130 - val_mae: 1.6130 - val_mse: 6.7301\n",
            "Epoch 181/300\n",
            "10/10 [==============================] - 0s 5ms/step - loss: 1.9142 - mae: 1.9142 - mse: 8.7644 - val_loss: 1.6144 - val_mae: 1.6144 - val_mse: 6.7368\n",
            "Epoch 182/300\n",
            "10/10 [==============================] - 0s 4ms/step - loss: 1.9122 - mae: 1.9122 - mse: 8.7684 - val_loss: 1.6152 - val_mae: 1.6152 - val_mse: 6.7407\n",
            "Epoch 183/300\n",
            "10/10 [==============================] - 0s 4ms/step - loss: 1.9112 - mae: 1.9112 - mse: 8.7718 - val_loss: 1.6161 - val_mae: 1.6161 - val_mse: 6.7454\n",
            "Epoch 184/300\n",
            "10/10 [==============================] - 0s 5ms/step - loss: 1.9102 - mae: 1.9102 - mse: 8.7763 - val_loss: 1.6171 - val_mae: 1.6171 - val_mse: 6.7510\n",
            "Epoch 185/300\n",
            "10/10 [==============================] - 0s 4ms/step - loss: 1.9092 - mae: 1.9092 - mse: 8.7844 - val_loss: 1.6182 - val_mae: 1.6182 - val_mse: 6.7582\n",
            "Epoch 186/300\n",
            "10/10 [==============================] - 0s 4ms/step - loss: 1.9082 - mae: 1.9082 - mse: 8.7942 - val_loss: 1.6195 - val_mae: 1.6195 - val_mse: 6.7666\n",
            "Epoch 187/300\n",
            "10/10 [==============================] - 0s 4ms/step - loss: 1.9068 - mae: 1.9068 - mse: 8.7974 - val_loss: 1.6209 - val_mae: 1.6209 - val_mse: 6.7718\n",
            "Epoch 188/300\n",
            "10/10 [==============================] - 0s 4ms/step - loss: 1.9068 - mae: 1.9068 - mse: 8.8053 - val_loss: 1.6225 - val_mae: 1.6225 - val_mse: 6.7774\n",
            "Epoch 189/300\n",
            "10/10 [==============================] - 0s 4ms/step - loss: 1.9065 - mae: 1.9065 - mse: 8.8092 - val_loss: 1.6235 - val_mae: 1.6235 - val_mse: 6.7813\n",
            "Epoch 190/300\n",
            "10/10 [==============================] - 0s 4ms/step - loss: 1.9062 - mae: 1.9062 - mse: 8.8112 - val_loss: 1.6239 - val_mae: 1.6239 - val_mse: 6.7823\n",
            "Epoch 191/300\n",
            "10/10 [==============================] - 0s 4ms/step - loss: 1.9061 - mae: 1.9061 - mse: 8.8142 - val_loss: 1.6249 - val_mae: 1.6249 - val_mse: 6.7862\n",
            "Epoch 192/300\n",
            "10/10 [==============================] - 0s 4ms/step - loss: 1.9059 - mae: 1.9059 - mse: 8.8163 - val_loss: 1.6256 - val_mae: 1.6256 - val_mse: 6.7890\n",
            "Epoch 193/300\n",
            "10/10 [==============================] - 0s 5ms/step - loss: 1.9057 - mae: 1.9057 - mse: 8.8182 - val_loss: 1.6260 - val_mae: 1.6260 - val_mse: 6.7902\n",
            "Epoch 194/300\n",
            "10/10 [==============================] - 0s 5ms/step - loss: 1.9056 - mae: 1.9056 - mse: 8.8198 - val_loss: 1.6266 - val_mae: 1.6266 - val_mse: 6.7926\n",
            "Epoch 195/300\n",
            "10/10 [==============================] - 0s 4ms/step - loss: 1.9056 - mae: 1.9056 - mse: 8.8247 - val_loss: 1.6276 - val_mae: 1.6276 - val_mse: 6.7967\n",
            "Epoch 196/300\n",
            "10/10 [==============================] - 0s 6ms/step - loss: 1.9053 - mae: 1.9053 - mse: 8.8265 - val_loss: 1.6284 - val_mae: 1.6284 - val_mse: 6.7993\n",
            "Epoch 197/300\n",
            "10/10 [==============================] - 0s 4ms/step - loss: 1.9053 - mae: 1.9053 - mse: 8.8274 - val_loss: 1.6285 - val_mae: 1.6285 - val_mse: 6.7992\n",
            "Epoch 198/300\n",
            "10/10 [==============================] - 0s 4ms/step - loss: 1.9052 - mae: 1.9052 - mse: 8.8309 - val_loss: 1.6302 - val_mae: 1.6302 - val_mse: 6.8051\n",
            "Epoch 199/300\n",
            "10/10 [==============================] - 0s 6ms/step - loss: 1.9049 - mae: 1.9049 - mse: 8.8357 - val_loss: 1.6315 - val_mae: 1.6315 - val_mse: 6.8094\n",
            "Epoch 200/300\n",
            "10/10 [==============================] - 0s 4ms/step - loss: 1.9046 - mae: 1.9046 - mse: 8.8385 - val_loss: 1.6322 - val_mae: 1.6322 - val_mse: 6.8118\n",
            "Epoch 201/300\n",
            "10/10 [==============================] - 0s 4ms/step - loss: 1.9044 - mae: 1.9044 - mse: 8.8407 - val_loss: 1.6328 - val_mae: 1.6328 - val_mse: 6.8138\n",
            "Epoch 202/300\n",
            "10/10 [==============================] - 0s 4ms/step - loss: 1.9044 - mae: 1.9044 - mse: 8.8435 - val_loss: 1.6341 - val_mae: 1.6341 - val_mse: 6.8184\n",
            "Epoch 203/300\n",
            "10/10 [==============================] - 0s 5ms/step - loss: 1.9042 - mae: 1.9042 - mse: 8.8479 - val_loss: 1.6350 - val_mae: 1.6350 - val_mse: 6.8213\n",
            "Epoch 204/300\n",
            "10/10 [==============================] - 0s 4ms/step - loss: 1.9040 - mae: 1.9040 - mse: 8.8490 - val_loss: 1.6354 - val_mae: 1.6354 - val_mse: 6.8228\n",
            "Epoch 205/300\n",
            "10/10 [==============================] - 0s 4ms/step - loss: 1.9039 - mae: 1.9039 - mse: 8.8518 - val_loss: 1.6366 - val_mae: 1.6366 - val_mse: 6.8271\n",
            "Epoch 206/300\n",
            "10/10 [==============================] - 0s 4ms/step - loss: 1.9037 - mae: 1.9037 - mse: 8.8557 - val_loss: 1.6376 - val_mae: 1.6376 - val_mse: 6.8309\n",
            "Epoch 207/300\n",
            "10/10 [==============================] - 0s 4ms/step - loss: 1.9038 - mae: 1.9038 - mse: 8.8618 - val_loss: 1.6393 - val_mae: 1.6393 - val_mse: 6.8374\n",
            "Epoch 208/300\n",
            "10/10 [==============================] - 0s 7ms/step - loss: 1.9034 - mae: 1.9034 - mse: 8.8662 - val_loss: 1.6403 - val_mae: 1.6403 - val_mse: 6.8414\n",
            "Epoch 209/300\n",
            "10/10 [==============================] - 0s 4ms/step - loss: 1.9031 - mae: 1.9031 - mse: 8.8679 - val_loss: 1.6406 - val_mae: 1.6406 - val_mse: 6.8421\n",
            "Epoch 210/300\n",
            "10/10 [==============================] - 0s 4ms/step - loss: 1.9031 - mae: 1.9031 - mse: 8.8714 - val_loss: 1.6419 - val_mae: 1.6419 - val_mse: 6.8472\n",
            "Epoch 211/300\n",
            "10/10 [==============================] - 0s 5ms/step - loss: 1.9030 - mae: 1.9030 - mse: 8.8746 - val_loss: 1.6427 - val_mae: 1.6427 - val_mse: 6.8503\n",
            "Epoch 212/300\n",
            "10/10 [==============================] - 0s 4ms/step - loss: 1.9031 - mae: 1.9031 - mse: 8.8779 - val_loss: 1.6431 - val_mae: 1.6431 - val_mse: 6.8513\n",
            "Epoch 213/300\n",
            "10/10 [==============================] - 0s 4ms/step - loss: 1.9029 - mae: 1.9029 - mse: 8.8725 - val_loss: 1.6412 - val_mae: 1.6412 - val_mse: 6.8434\n",
            "Epoch 214/300\n",
            "10/10 [==============================] - 0s 5ms/step - loss: 1.9030 - mae: 1.9030 - mse: 8.8722 - val_loss: 1.6420 - val_mae: 1.6420 - val_mse: 6.8466\n",
            "Epoch 215/300\n",
            "10/10 [==============================] - 0s 5ms/step - loss: 1.9028 - mae: 1.9028 - mse: 8.8735 - val_loss: 1.6420 - val_mae: 1.6420 - val_mse: 6.8460\n",
            "Epoch 216/300\n",
            "10/10 [==============================] - 0s 4ms/step - loss: 1.9027 - mae: 1.9027 - mse: 8.8720 - val_loss: 1.6419 - val_mae: 1.6419 - val_mse: 6.8452\n",
            "Epoch 217/300\n",
            "10/10 [==============================] - 0s 4ms/step - loss: 1.9026 - mae: 1.9026 - mse: 8.8716 - val_loss: 1.6422 - val_mae: 1.6422 - val_mse: 6.8462\n",
            "Epoch 218/300\n",
            "10/10 [==============================] - 0s 4ms/step - loss: 1.9029 - mae: 1.9029 - mse: 8.8766 - val_loss: 1.6434 - val_mae: 1.6434 - val_mse: 6.8505\n",
            "Epoch 219/300\n",
            "10/10 [==============================] - 0s 4ms/step - loss: 1.9027 - mae: 1.9027 - mse: 8.8726 - val_loss: 1.6417 - val_mae: 1.6417 - val_mse: 6.8434\n",
            "Epoch 220/300\n",
            "10/10 [==============================] - 0s 5ms/step - loss: 1.9026 - mae: 1.9026 - mse: 8.8687 - val_loss: 1.6414 - val_mae: 1.6414 - val_mse: 6.8418\n",
            "Epoch 221/300\n",
            "10/10 [==============================] - 0s 4ms/step - loss: 1.9025 - mae: 1.9025 - mse: 8.8700 - val_loss: 1.6422 - val_mae: 1.6422 - val_mse: 6.8449\n",
            "Epoch 222/300\n",
            "10/10 [==============================] - 0s 4ms/step - loss: 1.9025 - mae: 1.9025 - mse: 8.8716 - val_loss: 1.6422 - val_mae: 1.6422 - val_mse: 6.8446\n",
            "Epoch 223/300\n",
            "10/10 [==============================] - 0s 5ms/step - loss: 1.9027 - mae: 1.9027 - mse: 8.8690 - val_loss: 1.6414 - val_mae: 1.6414 - val_mse: 6.8407\n",
            "Epoch 224/300\n",
            "10/10 [==============================] - 0s 4ms/step - loss: 1.9025 - mae: 1.9025 - mse: 8.8689 - val_loss: 1.6423 - val_mae: 1.6423 - val_mse: 6.8442\n",
            "Epoch 225/300\n",
            "10/10 [==============================] - 0s 4ms/step - loss: 1.9025 - mae: 1.9025 - mse: 8.8700 - val_loss: 1.6415 - val_mae: 1.6415 - val_mse: 6.8405\n",
            "Epoch 226/300\n",
            "10/10 [==============================] - 0s 4ms/step - loss: 1.9027 - mae: 1.9027 - mse: 8.8718 - val_loss: 1.6426 - val_mae: 1.6426 - val_mse: 6.8446\n",
            "Epoch 227/300\n",
            "10/10 [==============================] - 0s 5ms/step - loss: 1.9023 - mae: 1.9023 - mse: 8.8692 - val_loss: 1.6417 - val_mae: 1.6417 - val_mse: 6.8407\n",
            "Epoch 228/300\n",
            "10/10 [==============================] - 0s 5ms/step - loss: 1.9024 - mae: 1.9024 - mse: 8.8674 - val_loss: 1.6420 - val_mae: 1.6420 - val_mse: 6.8417\n",
            "Epoch 229/300\n",
            "10/10 [==============================] - 0s 5ms/step - loss: 1.9022 - mae: 1.9022 - mse: 8.8677 - val_loss: 1.6418 - val_mae: 1.6418 - val_mse: 6.8406\n",
            "Epoch 230/300\n",
            "10/10 [==============================] - 0s 4ms/step - loss: 1.9022 - mae: 1.9022 - mse: 8.8673 - val_loss: 1.6417 - val_mae: 1.6417 - val_mse: 6.8396\n",
            "Epoch 231/300\n",
            "10/10 [==============================] - 0s 4ms/step - loss: 1.9021 - mae: 1.9021 - mse: 8.8669 - val_loss: 1.6416 - val_mae: 1.6416 - val_mse: 6.8388\n",
            "Epoch 232/300\n",
            "10/10 [==============================] - 0s 4ms/step - loss: 1.9021 - mae: 1.9021 - mse: 8.8663 - val_loss: 1.6419 - val_mae: 1.6419 - val_mse: 6.8397\n",
            "Epoch 233/300\n",
            "10/10 [==============================] - 0s 5ms/step - loss: 1.9021 - mae: 1.9021 - mse: 8.8649 - val_loss: 1.6412 - val_mae: 1.6412 - val_mse: 6.8365\n",
            "Epoch 234/300\n",
            "10/10 [==============================] - 0s 4ms/step - loss: 1.9020 - mae: 1.9020 - mse: 8.8648 - val_loss: 1.6418 - val_mae: 1.6418 - val_mse: 6.8388\n",
            "Epoch 235/300\n",
            "10/10 [==============================] - 0s 4ms/step - loss: 1.9022 - mae: 1.9022 - mse: 8.8651 - val_loss: 1.6410 - val_mae: 1.6410 - val_mse: 6.8350\n",
            "Epoch 236/300\n",
            "10/10 [==============================] - 0s 4ms/step - loss: 1.9020 - mae: 1.9020 - mse: 8.8651 - val_loss: 1.6419 - val_mae: 1.6419 - val_mse: 6.8383\n",
            "Epoch 237/300\n",
            "10/10 [==============================] - 0s 5ms/step - loss: 1.9019 - mae: 1.9019 - mse: 8.8654 - val_loss: 1.6414 - val_mae: 1.6414 - val_mse: 6.8360\n",
            "Epoch 238/300\n",
            "10/10 [==============================] - 0s 4ms/step - loss: 1.9020 - mae: 1.9020 - mse: 8.8621 - val_loss: 1.6408 - val_mae: 1.6408 - val_mse: 6.8331\n",
            "Epoch 239/300\n",
            "10/10 [==============================] - 0s 4ms/step - loss: 1.9021 - mae: 1.9021 - mse: 8.8647 - val_loss: 1.6423 - val_mae: 1.6423 - val_mse: 6.8388\n",
            "Epoch 240/300\n",
            "10/10 [==============================] - 0s 4ms/step - loss: 1.9019 - mae: 1.9019 - mse: 8.8660 - val_loss: 1.6419 - val_mae: 1.6419 - val_mse: 6.8369\n",
            "Epoch 241/300\n",
            "10/10 [==============================] - 0s 5ms/step - loss: 1.9018 - mae: 1.9018 - mse: 8.8624 - val_loss: 1.6412 - val_mae: 1.6412 - val_mse: 6.8337\n",
            "Epoch 242/300\n",
            "10/10 [==============================] - 0s 6ms/step - loss: 1.9018 - mae: 1.9018 - mse: 8.8624 - val_loss: 1.6419 - val_mae: 1.6419 - val_mse: 6.8358\n",
            "Epoch 243/300\n",
            "10/10 [==============================] - 0s 4ms/step - loss: 1.9018 - mae: 1.9018 - mse: 8.8638 - val_loss: 1.6416 - val_mae: 1.6416 - val_mse: 6.8344\n",
            "Epoch 244/300\n",
            "10/10 [==============================] - 0s 4ms/step - loss: 1.9019 - mae: 1.9019 - mse: 8.8581 - val_loss: 1.6397 - val_mae: 1.6397 - val_mse: 6.8260\n",
            "Epoch 245/300\n",
            "10/10 [==============================] - 0s 5ms/step - loss: 1.9019 - mae: 1.9019 - mse: 8.8556 - val_loss: 1.6404 - val_mae: 1.6404 - val_mse: 6.8288\n",
            "Epoch 246/300\n",
            "10/10 [==============================] - 0s 4ms/step - loss: 1.9017 - mae: 1.9017 - mse: 8.8578 - val_loss: 1.6412 - val_mae: 1.6412 - val_mse: 6.8316\n",
            "Epoch 247/300\n",
            "10/10 [==============================] - 0s 4ms/step - loss: 1.9017 - mae: 1.9017 - mse: 8.8617 - val_loss: 1.6412 - val_mae: 1.6412 - val_mse: 6.8314\n",
            "Epoch 248/300\n",
            "10/10 [==============================] - 0s 4ms/step - loss: 1.9016 - mae: 1.9016 - mse: 8.8578 - val_loss: 1.6408 - val_mae: 1.6408 - val_mse: 6.8290\n",
            "Epoch 249/300\n",
            "10/10 [==============================] - 0s 4ms/step - loss: 1.9015 - mae: 1.9015 - mse: 8.8572 - val_loss: 1.6411 - val_mae: 1.6411 - val_mse: 6.8299\n",
            "Epoch 250/300\n",
            "10/10 [==============================] - 0s 4ms/step - loss: 1.9015 - mae: 1.9015 - mse: 8.8596 - val_loss: 1.6419 - val_mae: 1.6419 - val_mse: 6.8326\n",
            "Epoch 251/300\n",
            "10/10 [==============================] - 0s 4ms/step - loss: 1.9014 - mae: 1.9014 - mse: 8.8600 - val_loss: 1.6411 - val_mae: 1.6411 - val_mse: 6.8293\n",
            "Epoch 252/300\n",
            "10/10 [==============================] - 0s 4ms/step - loss: 1.9013 - mae: 1.9013 - mse: 8.8567 - val_loss: 1.6409 - val_mae: 1.6409 - val_mse: 6.8280\n",
            "Epoch 253/300\n",
            "10/10 [==============================] - 0s 4ms/step - loss: 1.9013 - mae: 1.9013 - mse: 8.8583 - val_loss: 1.6416 - val_mae: 1.6416 - val_mse: 6.8306\n",
            "Epoch 254/300\n",
            "10/10 [==============================] - 0s 5ms/step - loss: 1.9014 - mae: 1.9014 - mse: 8.8604 - val_loss: 1.6417 - val_mae: 1.6417 - val_mse: 6.8306\n",
            "Epoch 255/300\n",
            "10/10 [==============================] - 0s 5ms/step - loss: 1.9013 - mae: 1.9013 - mse: 8.8554 - val_loss: 1.6401 - val_mae: 1.6401 - val_mse: 6.8236\n",
            "Epoch 256/300\n",
            "10/10 [==============================] - 0s 4ms/step - loss: 1.9013 - mae: 1.9013 - mse: 8.8536 - val_loss: 1.6407 - val_mae: 1.6407 - val_mse: 6.8258\n",
            "Epoch 257/300\n",
            "10/10 [==============================] - 0s 4ms/step - loss: 1.9011 - mae: 1.9011 - mse: 8.8554 - val_loss: 1.6410 - val_mae: 1.6410 - val_mse: 6.8267\n",
            "Epoch 258/300\n",
            "10/10 [==============================] - 0s 6ms/step - loss: 1.9012 - mae: 1.9012 - mse: 8.8569 - val_loss: 1.6416 - val_mae: 1.6416 - val_mse: 6.8286\n",
            "Epoch 259/300\n",
            "10/10 [==============================] - 0s 4ms/step - loss: 1.9012 - mae: 1.9012 - mse: 8.8553 - val_loss: 1.6402 - val_mae: 1.6402 - val_mse: 6.8224\n",
            "Epoch 260/300\n",
            "10/10 [==============================] - 0s 4ms/step - loss: 1.9012 - mae: 1.9012 - mse: 8.8508 - val_loss: 1.6402 - val_mae: 1.6402 - val_mse: 6.8218\n",
            "Epoch 261/300\n",
            "10/10 [==============================] - 0s 5ms/step - loss: 1.9009 - mae: 1.9009 - mse: 8.8530 - val_loss: 1.6411 - val_mae: 1.6411 - val_mse: 6.8254\n",
            "Epoch 262/300\n",
            "10/10 [==============================] - 0s 4ms/step - loss: 1.9011 - mae: 1.9011 - mse: 8.8527 - val_loss: 1.6409 - val_mae: 1.6409 - val_mse: 6.8240\n",
            "Epoch 263/300\n",
            "10/10 [==============================] - 0s 4ms/step - loss: 1.9009 - mae: 1.9009 - mse: 8.8540 - val_loss: 1.6410 - val_mae: 1.6410 - val_mse: 6.8239\n",
            "Epoch 264/300\n",
            "10/10 [==============================] - 0s 4ms/step - loss: 1.9008 - mae: 1.9008 - mse: 8.8524 - val_loss: 1.6405 - val_mae: 1.6405 - val_mse: 6.8213\n",
            "Epoch 265/300\n",
            "10/10 [==============================] - 0s 4ms/step - loss: 1.9010 - mae: 1.9010 - mse: 8.8490 - val_loss: 1.6398 - val_mae: 1.6398 - val_mse: 6.8180\n",
            "Epoch 266/300\n",
            "10/10 [==============================] - 0s 4ms/step - loss: 1.9008 - mae: 1.9008 - mse: 8.8484 - val_loss: 1.6407 - val_mae: 1.6407 - val_mse: 6.8216\n",
            "Epoch 267/300\n",
            "10/10 [==============================] - 0s 5ms/step - loss: 1.9007 - mae: 1.9007 - mse: 8.8514 - val_loss: 1.6407 - val_mae: 1.6407 - val_mse: 6.8213\n",
            "Epoch 268/300\n",
            "10/10 [==============================] - 0s 5ms/step - loss: 1.9008 - mae: 1.9008 - mse: 8.8519 - val_loss: 1.6410 - val_mae: 1.6410 - val_mse: 6.8220\n",
            "Epoch 269/300\n",
            "10/10 [==============================] - 0s 5ms/step - loss: 1.9006 - mae: 1.9006 - mse: 8.8500 - val_loss: 1.6407 - val_mae: 1.6407 - val_mse: 6.8202\n",
            "Epoch 270/300\n",
            "10/10 [==============================] - 0s 4ms/step - loss: 1.9005 - mae: 1.9005 - mse: 8.8491 - val_loss: 1.6402 - val_mae: 1.6402 - val_mse: 6.8179\n",
            "Epoch 271/300\n",
            "10/10 [==============================] - 0s 4ms/step - loss: 1.9006 - mae: 1.9006 - mse: 8.8464 - val_loss: 1.6398 - val_mae: 1.6398 - val_mse: 6.8155\n",
            "Epoch 272/300\n",
            "10/10 [==============================] - 0s 4ms/step - loss: 1.9005 - mae: 1.9005 - mse: 8.8457 - val_loss: 1.6402 - val_mae: 1.6402 - val_mse: 6.8171\n",
            "Epoch 273/300\n",
            "10/10 [==============================] - 0s 4ms/step - loss: 1.9004 - mae: 1.9004 - mse: 8.8490 - val_loss: 1.6413 - val_mae: 1.6413 - val_mse: 6.8207\n",
            "Epoch 274/300\n",
            "10/10 [==============================] - 0s 5ms/step - loss: 1.9005 - mae: 1.9005 - mse: 8.8497 - val_loss: 1.6411 - val_mae: 1.6411 - val_mse: 6.8196\n",
            "Epoch 275/300\n",
            "10/10 [==============================] - 0s 4ms/step - loss: 1.9010 - mae: 1.9010 - mse: 8.8457 - val_loss: 1.6394 - val_mae: 1.6394 - val_mse: 6.8120\n",
            "Epoch 276/300\n",
            "10/10 [==============================] - 0s 4ms/step - loss: 1.9003 - mae: 1.9003 - mse: 8.8433 - val_loss: 1.6405 - val_mae: 1.6405 - val_mse: 6.8165\n",
            "Epoch 277/300\n",
            "10/10 [==============================] - 0s 4ms/step - loss: 1.9004 - mae: 1.9004 - mse: 8.8470 - val_loss: 1.6406 - val_mae: 1.6406 - val_mse: 6.8162\n",
            "Epoch 278/300\n",
            "10/10 [==============================] - 0s 4ms/step - loss: 1.9005 - mae: 1.9005 - mse: 8.8503 - val_loss: 1.6416 - val_mae: 1.6416 - val_mse: 6.8198\n",
            "Epoch 279/300\n",
            "10/10 [==============================] - 0s 4ms/step - loss: 1.9002 - mae: 1.9002 - mse: 8.8467 - val_loss: 1.6402 - val_mae: 1.6402 - val_mse: 6.8137\n",
            "Epoch 280/300\n",
            "10/10 [==============================] - 0s 4ms/step - loss: 1.9010 - mae: 1.9010 - mse: 8.8396 - val_loss: 1.6380 - val_mae: 1.6380 - val_mse: 6.8042\n",
            "Epoch 281/300\n",
            "10/10 [==============================] - 0s 5ms/step - loss: 1.9005 - mae: 1.9005 - mse: 8.8415 - val_loss: 1.6405 - val_mae: 1.6405 - val_mse: 6.8142\n",
            "Epoch 282/300\n",
            "10/10 [==============================] - 0s 5ms/step - loss: 1.9000 - mae: 1.9000 - mse: 8.8435 - val_loss: 1.6401 - val_mae: 1.6401 - val_mse: 6.8121\n",
            "Epoch 283/300\n",
            "10/10 [==============================] - 0s 4ms/step - loss: 1.9002 - mae: 1.9002 - mse: 8.8408 - val_loss: 1.6398 - val_mae: 1.6398 - val_mse: 6.8102\n",
            "Epoch 284/300\n",
            "10/10 [==============================] - 0s 5ms/step - loss: 1.9000 - mae: 1.9000 - mse: 8.8445 - val_loss: 1.6412 - val_mae: 1.6412 - val_mse: 6.8154\n",
            "Epoch 285/300\n",
            "10/10 [==============================] - 0s 4ms/step - loss: 1.9003 - mae: 1.9003 - mse: 8.8419 - val_loss: 1.6394 - val_mae: 1.6394 - val_mse: 6.8077\n",
            "Epoch 286/300\n",
            "10/10 [==============================] - 0s 4ms/step - loss: 1.9000 - mae: 1.9000 - mse: 8.8420 - val_loss: 1.6410 - val_mae: 1.6410 - val_mse: 6.8138\n",
            "Epoch 287/300\n",
            "10/10 [==============================] - 0s 5ms/step - loss: 1.8999 - mae: 1.8999 - mse: 8.8444 - val_loss: 1.6406 - val_mae: 1.6406 - val_mse: 6.8119\n",
            "Epoch 288/300\n",
            "10/10 [==============================] - 0s 7ms/step - loss: 1.9000 - mae: 1.9000 - mse: 8.8396 - val_loss: 1.6393 - val_mae: 1.6393 - val_mse: 6.8060\n",
            "Epoch 289/300\n",
            "10/10 [==============================] - 0s 5ms/step - loss: 1.8996 - mae: 1.8996 - mse: 8.8384 - val_loss: 1.6403 - val_mae: 1.6403 - val_mse: 6.8097\n",
            "Epoch 290/300\n",
            "10/10 [==============================] - 0s 5ms/step - loss: 1.8998 - mae: 1.8998 - mse: 8.8401 - val_loss: 1.6398 - val_mae: 1.6398 - val_mse: 6.8073\n",
            "Epoch 291/300\n",
            "10/10 [==============================] - 0s 5ms/step - loss: 1.8997 - mae: 1.8997 - mse: 8.8409 - val_loss: 1.6407 - val_mae: 1.6407 - val_mse: 6.8103\n",
            "Epoch 292/300\n",
            "10/10 [==============================] - 0s 4ms/step - loss: 1.8999 - mae: 1.8999 - mse: 8.8376 - val_loss: 1.6391 - val_mae: 1.6391 - val_mse: 6.8033\n",
            "Epoch 293/300\n",
            "10/10 [==============================] - 0s 5ms/step - loss: 1.8996 - mae: 1.8996 - mse: 8.8386 - val_loss: 1.6405 - val_mae: 1.6405 - val_mse: 6.8087\n",
            "Epoch 294/300\n",
            "10/10 [==============================] - 0s 4ms/step - loss: 1.8996 - mae: 1.8996 - mse: 8.8375 - val_loss: 1.6393 - val_mae: 1.6393 - val_mse: 6.8033\n",
            "Epoch 295/300\n",
            "10/10 [==============================] - 0s 5ms/step - loss: 1.8995 - mae: 1.8995 - mse: 8.8376 - val_loss: 1.6402 - val_mae: 1.6402 - val_mse: 6.8066\n",
            "Epoch 296/300\n",
            "10/10 [==============================] - 0s 4ms/step - loss: 1.9003 - mae: 1.9003 - mse: 8.8333 - val_loss: 1.6379 - val_mae: 1.6379 - val_mse: 6.7962\n",
            "Epoch 297/300\n",
            "10/10 [==============================] - 0s 4ms/step - loss: 1.8994 - mae: 1.8994 - mse: 8.8291 - val_loss: 1.6389 - val_mae: 1.6389 - val_mse: 6.7999\n",
            "Epoch 298/300\n",
            "10/10 [==============================] - 0s 4ms/step - loss: 1.8994 - mae: 1.8994 - mse: 8.8366 - val_loss: 1.6415 - val_mae: 1.6415 - val_mse: 6.8102\n",
            "Epoch 299/300\n",
            "10/10 [==============================] - 0s 4ms/step - loss: 1.8995 - mae: 1.8995 - mse: 8.8404 - val_loss: 1.6403 - val_mae: 1.6403 - val_mse: 6.8047\n",
            "Epoch 300/300\n",
            "10/10 [==============================] - 0s 4ms/step - loss: 1.8992 - mae: 1.8992 - mse: 8.8339 - val_loss: 1.6392 - val_mae: 1.6392 - val_mse: 6.8000\n"
          ],
          "name": "stdout"
        }
      ]
    },
    {
      "cell_type": "code",
      "metadata": {
        "colab": {
          "base_uri": "https://localhost:8080/"
        },
        "id": "h2I0O_xSJDbM",
        "outputId": "6e3f54af-71d4-4b89-b7e3-a30be0fc22fd"
      },
      "source": [
        "model.summary()"
      ],
      "execution_count": 68,
      "outputs": [
        {
          "output_type": "stream",
          "text": [
            "Model: \"sequential_1\"\n",
            "_________________________________________________________________\n",
            "Layer (type)                 Output Shape              Param #   \n",
            "=================================================================\n",
            "dense_1 (Dense)              (None, 1)                 2         \n",
            "=================================================================\n",
            "Total params: 2\n",
            "Trainable params: 2\n",
            "Non-trainable params: 0\n",
            "_________________________________________________________________\n"
          ],
          "name": "stdout"
        }
      ]
    },
    {
      "cell_type": "code",
      "metadata": {
        "id": "sLbsy8F8JJhy",
        "colab": {
          "base_uri": "https://localhost:8080/",
          "height": 1000
        },
        "outputId": "51e3261e-454d-4394-8ce7-b1a903314bd5"
      },
      "source": [
        "#tempstring='loss'\n",
        "def curve(tempstring):\n",
        "   plt.plot(history.history[tempstring])\n",
        "   plt.plot(history.history[f'val_{tempstring}'])\n",
        "   plt.xlabel('NumEpochs')\n",
        "   plt.ylabel(tempstring)\n",
        "   plt.legend([tempstring,f'val_{tempstring}'])\n",
        "   plt.show()\n",
        "\n",
        "curve('mae')\n",
        "curve('mse')\n",
        "curve('loss')\n",
        "  \n",
        "  "
      ],
      "execution_count": 69,
      "outputs": [
        {
          "output_type": "display_data",
          "data": {
            "image/png": "[encoded data removed]",
            "text/plain": [
              "<Figure size 576x396 with 1 Axes>"
            ]
          },
          "metadata": {
            "tags": []
          }
        },
        {
          "output_type": "display_data",
          "data": {
            "image/png": "[encoded data removed]",
            "text/plain": [
              "<Figure size 576x396 with 1 Axes>"
            ]
          },
          "metadata": {
            "tags": []
          }
        },
        {
          "output_type": "display_data",
          "data": {
            "image/png": "[encoded data removed]",
            "text/plain": [
              "<Figure size 576x396 with 1 Axes>"
            ]
          },
          "metadata": {
            "tags": []
          }
        }
      ]
    },
    {
      "cell_type": "code",
      "metadata": {
        "id": "jMoHQr-4MH6J"
      },
      "source": [
        "testPreds=model.predict(testFeatures).flatten()"
      ],
      "execution_count": 70,
      "outputs": []
    },
    {
      "cell_type": "code",
      "metadata": {
        "colab": {
          "base_uri": "https://localhost:8080/",
          "height": 361
        },
        "id": "ZOJfN_BvMU2n",
        "outputId": "1ba937bd-0ced-46ea-e544-fc2fbae75faf"
      },
      "source": [
        "def predPlot(labels,predictions):\n",
        "    plt.scatter(labels,predictions)\n",
        "    plt.ylabel('Predictions')\n",
        "    plt.xlabel('True Value or Labels')\n",
        "    plt.axis('equal')\n",
        "    plt.axis('square')\n",
        "    plt.xlim([0,plt.xlim()[1]])\n",
        "    plt.ylim([0,plt.ylim()[1]]) \n",
        "    plt.plot([-100,100],[-100,100])\n",
        "    plt.show()\n",
        "\n",
        "predPlot(testLabels,testPreds)"
      ],
      "execution_count": 71,
      "outputs": [
        {
          "output_type": "display_data",
          "data": {
            "image/png": "[encoded data removed]",
            "text/plain": [
              "<Figure size 576x396 with 1 Axes>"
            ]
          },
          "metadata": {
            "tags": []
          }
        }
      ]
    },
    {
      "cell_type": "code",
      "metadata": {
        "colab": {
          "base_uri": "https://localhost:8080/",
          "height": 361
        },
        "id": "CjkBI4nMOxNz",
        "outputId": "f2590e0b-a124-45be-f2dc-2eacc7361c54"
      },
      "source": [
        "def errorPlot(preds,labels,counts):\n",
        "    errors=preds-labels\n",
        "    plt.hist(errors,counts)\n",
        "    plt.xlabel('Error')\n",
        "    plt.ylabel('Counts')\n",
        "    plt.show()\n",
        "\n",
        "errorPlot(testPreds,testLabels,numEpochs)"
      ],
      "execution_count": 72,
      "outputs": [
        {
          "output_type": "display_data",
          "data": {
            "image/png": "[encoded data removed]",
            "text/plain": [
              "<Figure size 576x396 with 1 Axes>"
            ]
          },
          "metadata": {
            "tags": []
          }
        }
      ]
    }
  ]
}